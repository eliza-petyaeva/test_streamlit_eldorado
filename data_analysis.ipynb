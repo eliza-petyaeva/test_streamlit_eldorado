{
 "cells": [
  {
   "cell_type": "markdown",
   "metadata": {},
   "source": [
    "# Выгрузка библиотек"
   ]
  },
  {
   "cell_type": "code",
   "execution_count": 94,
   "metadata": {},
   "outputs": [],
   "source": [
    "import pandas as pd\n",
    "import chardet\n",
    "import seaborn as sns\n",
    "import matplotlib.pyplot as plt\n",
    "import warnings\n",
    "import scipy.stats as sts\n",
    "import scipy.stats as stats\n",
    "import plotly.express as px\n",
    "import plotly.graph_objects as go\n",
    "import plotly.figure_factory as ff\n",
    "# %matplotlib\n",
    "warnings.filterwarnings(\"ignore\")"
   ]
  },
  {
   "cell_type": "markdown",
   "metadata": {},
   "source": [
    "# Задание 1. (Статистика)\n",
    "\n",
    "Руководство компании обратило внимание на то, что сотрудники старше 35 лет болеют чаще, чем более молодые сотрудники. Кроме этого, среди мужчин количество пропусков рабочих дней в связи с больничным выше, чем среди женщин. В связи с этой ситуацией, руководство организации планирует ввести дополнительные медицинские осмотры среди групп риска. \n",
    "Вам необходимо проверить следующие гипотезы:\n",
    "Мужчины пропускают в течение года более 2 рабочих дней (work_days) по болезни значимо чаще женщин.\n",
    "Работники старше 35 лет (age) пропускают в течение года более 2 рабочих дней (work_days) по болезни значимо чаще своих более молодых коллег.\n",
    "Все необходимые данные содержатся в файле «Статистика».\n",
    "\n",
    "**Решение необходимо предоставить**:   \n",
    "В виде jupyter notebook (с аккуратно оформленным кодом, графиками и описанной логикой решения). \n",
    "В виде дашборда на Streamlit с простым функционалом: \n",
    "должна быть возможность загрузить csv, в формате аналогично файлу «Статистика»\n",
    "должна быть возможность задать параметры age и work_days\n",
    "указан результат проверки гипотез\n",
    "указана логика получения результата (должны быть отрисованы графики распределений, указаны критерии проверки (стат. тесты, статистики, уровень значимости т.п.) \n",
    "\n",
    "Код проекта должен быть обернут в docker выложен в gitlab/github репозиторий предоставлена ссылка на него. Будет обращаться внимание на качество кода, код стайл, оформление ноутбука, кода и репозитория. Будет плюсом, если дашборд будет поднят на сервере и на него будет предоставлена ссылка. \n"
   ]
  },
  {
   "cell_type": "markdown",
   "metadata": {},
   "source": [
    "# Данные"
   ]
  },
  {
   "cell_type": "code",
   "execution_count": 53,
   "metadata": {},
   "outputs": [],
   "source": [
    "with open('Статистика.csv', 'rb') as f:\n",
    "    enc = chardet.detect(f.read())\n",
    "df = pd.read_csv('Статистика.csv', encoding = enc['encoding'])"
   ]
  },
  {
   "cell_type": "code",
   "execution_count": 54,
   "metadata": {},
   "outputs": [
    {
     "name": "stdout",
     "output_type": "stream",
     "text": [
      "{'encoding': 'windows-1251', 'confidence': 0.99, 'language': 'Russian'}\n"
     ]
    }
   ],
   "source": [
    "print(enc)"
   ]
  },
  {
   "cell_type": "code",
   "execution_count": 55,
   "metadata": {},
   "outputs": [
    {
     "data": {
      "text/html": [
       "<div>\n",
       "<style scoped>\n",
       "    .dataframe tbody tr th:only-of-type {\n",
       "        vertical-align: middle;\n",
       "    }\n",
       "\n",
       "    .dataframe tbody tr th {\n",
       "        vertical-align: top;\n",
       "    }\n",
       "\n",
       "    .dataframe thead th {\n",
       "        text-align: right;\n",
       "    }\n",
       "</style>\n",
       "<table border=\"1\" class=\"dataframe\">\n",
       "  <thead>\n",
       "    <tr style=\"text-align: right;\">\n",
       "      <th></th>\n",
       "      <th>Количество больничных дней</th>\n",
       "      <th>Возраст</th>\n",
       "      <th>Пол</th>\n",
       "    </tr>\n",
       "  </thead>\n",
       "  <tbody>\n",
       "    <tr>\n",
       "      <th>0</th>\n",
       "      <td>5</td>\n",
       "      <td>39</td>\n",
       "      <td>Ж</td>\n",
       "    </tr>\n",
       "    <tr>\n",
       "      <th>1</th>\n",
       "      <td>4</td>\n",
       "      <td>54</td>\n",
       "      <td>М</td>\n",
       "    </tr>\n",
       "    <tr>\n",
       "      <th>2</th>\n",
       "      <td>4</td>\n",
       "      <td>26</td>\n",
       "      <td>М</td>\n",
       "    </tr>\n",
       "    <tr>\n",
       "      <th>3</th>\n",
       "      <td>5</td>\n",
       "      <td>42</td>\n",
       "      <td>М</td>\n",
       "    </tr>\n",
       "    <tr>\n",
       "      <th>4</th>\n",
       "      <td>4</td>\n",
       "      <td>29</td>\n",
       "      <td>М</td>\n",
       "    </tr>\n",
       "  </tbody>\n",
       "</table>\n",
       "</div>"
      ],
      "text/plain": [
       "   Количество больничных дней  Возраст Пол\n",
       "0                           5       39   Ж\n",
       "1                           4       54   М\n",
       "2                           4       26   М\n",
       "3                           5       42   М\n",
       "4                           4       29   М"
      ]
     },
     "execution_count": 55,
     "metadata": {},
     "output_type": "execute_result"
    }
   ],
   "source": [
    "df.head()"
   ]
  },
  {
   "cell_type": "code",
   "execution_count": 58,
   "metadata": {},
   "outputs": [],
   "source": [
    "# Для личного удобства (чтобы не переключать каждый раз язык на клавиатуре)\n",
    "\n",
    "df.columns = ['sick_leave_days', 'age', 'gender']\n",
    "df.loc[df['gender'] == \"Ж\", 'gender'] ='F'\n",
    "df.loc[df['gender'] == \"М\", 'gender'] ='M'"
   ]
  },
  {
   "cell_type": "code",
   "execution_count": 76,
   "metadata": {},
   "outputs": [
    {
     "name": "stdout",
     "output_type": "stream",
     "text": [
      "Количество женщин, взявших больничный более 2-ух раз:  67\n",
      "Количество мужчин, взявших больничный более 2-ух раз:  84\n"
     ]
    }
   ],
   "source": [
    "print(\"Количество женщин, взявших больничный более 2-ух раз: \", df[(df['gender'] == 'F') & (df['sick_leave_days'] > 2)].shape[0])\n",
    "print(\"Количество мужчин, взявших больничный более 2-ух раз: \", df[(df['gender'] == 'M') & (df['sick_leave_days'] > 2)].shape[0])"
   ]
  },
  {
   "cell_type": "code",
   "execution_count": 81,
   "metadata": {},
   "outputs": [
    {
     "name": "stdout",
     "output_type": "stream",
     "text": [
      "Количество работников младше 35, взявших больничный более 2-ух раз:  36\n",
      "Количество работников старше 35, взявших больничный более 2-ух раз:  115\n"
     ]
    }
   ],
   "source": [
    "print(\"Количество работников младше 35, взявших больничный более 2-ух раз: \", df[(df['age'] <= 35) & (df['sick_leave_days'] > 2)].shape[0])\n",
    "print(\"Количество работников старше 35, взявших больничный более 2-ух раз: \", df[(df['age'] > 35) & (df['sick_leave_days'] > 2)].shape[0])"
   ]
  },
  {
   "cell_type": "markdown",
   "metadata": {},
   "source": [
    "Видим, что выборки не очень большие, но, в целом можно попробовать сделать t-test. Для этого проверим выборки на нормальное распределение   \n",
    "Если распределения не будут нормальными, воспользуемся тестом Манна-Уитни"
   ]
  },
  {
   "cell_type": "markdown",
   "metadata": {},
   "source": [
    "# Графики"
   ]
  },
  {
   "cell_type": "code",
   "execution_count": 95,
   "metadata": {},
   "outputs": [],
   "source": [
    "filtered_data = df[(df['sick_leave_days'] > 2)]"
   ]
  },
  {
   "cell_type": "markdown",
   "metadata": {},
   "source": [
    "## Мужчины vs Женщины"
   ]
  },
  {
   "cell_type": "code",
   "execution_count": 99,
   "metadata": {},
   "outputs": [
    {
     "data": {
      "application/vnd.plotly.v1+json": {
       "config": {
        "plotlyServerURL": "https://plot.ly"
       },
       "data": [
        {
         "alignmentgroup": "True",
         "bingroup": "x",
         "hovertemplate": "gender=F<br>sick_leave_days=%{x}<br>count=%{y}<extra></extra>",
         "legendgroup": "F",
         "marker": {
          "color": "#636efa",
          "pattern": {
           "shape": ""
          }
         },
         "name": "F",
         "offsetgroup": "F",
         "orientation": "v",
         "showlegend": true,
         "type": "histogram",
         "x": [
          5,
          3,
          3,
          5,
          4,
          3,
          3,
          4,
          4,
          3,
          4,
          4,
          4,
          6,
          6,
          3,
          4,
          5,
          4,
          4,
          7,
          3,
          4,
          3,
          7,
          4,
          3,
          3,
          3,
          3,
          8,
          6,
          6,
          5,
          3,
          4,
          5,
          4,
          6,
          5,
          4,
          4,
          6,
          6,
          3,
          3,
          6,
          5,
          3,
          4,
          4,
          3,
          3,
          3,
          5,
          4,
          4,
          4,
          4,
          3,
          7,
          3,
          3,
          6,
          3,
          4,
          4
         ],
         "xaxis": "x",
         "yaxis": "y"
        },
        {
         "alignmentgroup": "True",
         "bingroup": "x",
         "hovertemplate": "gender=M<br>sick_leave_days=%{x}<br>count=%{y}<extra></extra>",
         "legendgroup": "M",
         "marker": {
          "color": "#EF553B",
          "pattern": {
           "shape": ""
          }
         },
         "name": "M",
         "offsetgroup": "M",
         "orientation": "v",
         "showlegend": true,
         "type": "histogram",
         "x": [
          4,
          4,
          5,
          4,
          4,
          4,
          3,
          3,
          3,
          3,
          3,
          3,
          5,
          3,
          7,
          7,
          3,
          5,
          4,
          3,
          4,
          4,
          4,
          3,
          5,
          6,
          3,
          4,
          3,
          4,
          3,
          5,
          3,
          5,
          3,
          4,
          3,
          4,
          3,
          3,
          6,
          4,
          3,
          6,
          4,
          3,
          4,
          8,
          4,
          8,
          4,
          5,
          6,
          4,
          6,
          5,
          8,
          3,
          7,
          4,
          7,
          4,
          3,
          7,
          3,
          3,
          8,
          7,
          4,
          4,
          3,
          4,
          3,
          3,
          5,
          3,
          4,
          7,
          5,
          3,
          3,
          5,
          5,
          3
         ],
         "xaxis": "x",
         "yaxis": "y"
        }
       ],
       "layout": {
        "barmode": "relative",
        "legend": {
         "title": {
          "text": "gender"
         },
         "tracegroupgap": 0
        },
        "template": {
         "data": {
          "bar": [
           {
            "error_x": {
             "color": "#2a3f5f"
            },
            "error_y": {
             "color": "#2a3f5f"
            },
            "marker": {
             "line": {
              "color": "#E5ECF6",
              "width": 0.5
             },
             "pattern": {
              "fillmode": "overlay",
              "size": 10,
              "solidity": 0.2
             }
            },
            "type": "bar"
           }
          ],
          "barpolar": [
           {
            "marker": {
             "line": {
              "color": "#E5ECF6",
              "width": 0.5
             },
             "pattern": {
              "fillmode": "overlay",
              "size": 10,
              "solidity": 0.2
             }
            },
            "type": "barpolar"
           }
          ],
          "carpet": [
           {
            "aaxis": {
             "endlinecolor": "#2a3f5f",
             "gridcolor": "white",
             "linecolor": "white",
             "minorgridcolor": "white",
             "startlinecolor": "#2a3f5f"
            },
            "baxis": {
             "endlinecolor": "#2a3f5f",
             "gridcolor": "white",
             "linecolor": "white",
             "minorgridcolor": "white",
             "startlinecolor": "#2a3f5f"
            },
            "type": "carpet"
           }
          ],
          "choropleth": [
           {
            "colorbar": {
             "outlinewidth": 0,
             "ticks": ""
            },
            "type": "choropleth"
           }
          ],
          "contour": [
           {
            "colorbar": {
             "outlinewidth": 0,
             "ticks": ""
            },
            "colorscale": [
             [
              0,
              "#0d0887"
             ],
             [
              0.1111111111111111,
              "#46039f"
             ],
             [
              0.2222222222222222,
              "#7201a8"
             ],
             [
              0.3333333333333333,
              "#9c179e"
             ],
             [
              0.4444444444444444,
              "#bd3786"
             ],
             [
              0.5555555555555556,
              "#d8576b"
             ],
             [
              0.6666666666666666,
              "#ed7953"
             ],
             [
              0.7777777777777778,
              "#fb9f3a"
             ],
             [
              0.8888888888888888,
              "#fdca26"
             ],
             [
              1,
              "#f0f921"
             ]
            ],
            "type": "contour"
           }
          ],
          "contourcarpet": [
           {
            "colorbar": {
             "outlinewidth": 0,
             "ticks": ""
            },
            "type": "contourcarpet"
           }
          ],
          "heatmap": [
           {
            "colorbar": {
             "outlinewidth": 0,
             "ticks": ""
            },
            "colorscale": [
             [
              0,
              "#0d0887"
             ],
             [
              0.1111111111111111,
              "#46039f"
             ],
             [
              0.2222222222222222,
              "#7201a8"
             ],
             [
              0.3333333333333333,
              "#9c179e"
             ],
             [
              0.4444444444444444,
              "#bd3786"
             ],
             [
              0.5555555555555556,
              "#d8576b"
             ],
             [
              0.6666666666666666,
              "#ed7953"
             ],
             [
              0.7777777777777778,
              "#fb9f3a"
             ],
             [
              0.8888888888888888,
              "#fdca26"
             ],
             [
              1,
              "#f0f921"
             ]
            ],
            "type": "heatmap"
           }
          ],
          "heatmapgl": [
           {
            "colorbar": {
             "outlinewidth": 0,
             "ticks": ""
            },
            "colorscale": [
             [
              0,
              "#0d0887"
             ],
             [
              0.1111111111111111,
              "#46039f"
             ],
             [
              0.2222222222222222,
              "#7201a8"
             ],
             [
              0.3333333333333333,
              "#9c179e"
             ],
             [
              0.4444444444444444,
              "#bd3786"
             ],
             [
              0.5555555555555556,
              "#d8576b"
             ],
             [
              0.6666666666666666,
              "#ed7953"
             ],
             [
              0.7777777777777778,
              "#fb9f3a"
             ],
             [
              0.8888888888888888,
              "#fdca26"
             ],
             [
              1,
              "#f0f921"
             ]
            ],
            "type": "heatmapgl"
           }
          ],
          "histogram": [
           {
            "marker": {
             "pattern": {
              "fillmode": "overlay",
              "size": 10,
              "solidity": 0.2
             }
            },
            "type": "histogram"
           }
          ],
          "histogram2d": [
           {
            "colorbar": {
             "outlinewidth": 0,
             "ticks": ""
            },
            "colorscale": [
             [
              0,
              "#0d0887"
             ],
             [
              0.1111111111111111,
              "#46039f"
             ],
             [
              0.2222222222222222,
              "#7201a8"
             ],
             [
              0.3333333333333333,
              "#9c179e"
             ],
             [
              0.4444444444444444,
              "#bd3786"
             ],
             [
              0.5555555555555556,
              "#d8576b"
             ],
             [
              0.6666666666666666,
              "#ed7953"
             ],
             [
              0.7777777777777778,
              "#fb9f3a"
             ],
             [
              0.8888888888888888,
              "#fdca26"
             ],
             [
              1,
              "#f0f921"
             ]
            ],
            "type": "histogram2d"
           }
          ],
          "histogram2dcontour": [
           {
            "colorbar": {
             "outlinewidth": 0,
             "ticks": ""
            },
            "colorscale": [
             [
              0,
              "#0d0887"
             ],
             [
              0.1111111111111111,
              "#46039f"
             ],
             [
              0.2222222222222222,
              "#7201a8"
             ],
             [
              0.3333333333333333,
              "#9c179e"
             ],
             [
              0.4444444444444444,
              "#bd3786"
             ],
             [
              0.5555555555555556,
              "#d8576b"
             ],
             [
              0.6666666666666666,
              "#ed7953"
             ],
             [
              0.7777777777777778,
              "#fb9f3a"
             ],
             [
              0.8888888888888888,
              "#fdca26"
             ],
             [
              1,
              "#f0f921"
             ]
            ],
            "type": "histogram2dcontour"
           }
          ],
          "mesh3d": [
           {
            "colorbar": {
             "outlinewidth": 0,
             "ticks": ""
            },
            "type": "mesh3d"
           }
          ],
          "parcoords": [
           {
            "line": {
             "colorbar": {
              "outlinewidth": 0,
              "ticks": ""
             }
            },
            "type": "parcoords"
           }
          ],
          "pie": [
           {
            "automargin": true,
            "type": "pie"
           }
          ],
          "scatter": [
           {
            "fillpattern": {
             "fillmode": "overlay",
             "size": 10,
             "solidity": 0.2
            },
            "type": "scatter"
           }
          ],
          "scatter3d": [
           {
            "line": {
             "colorbar": {
              "outlinewidth": 0,
              "ticks": ""
             }
            },
            "marker": {
             "colorbar": {
              "outlinewidth": 0,
              "ticks": ""
             }
            },
            "type": "scatter3d"
           }
          ],
          "scattercarpet": [
           {
            "marker": {
             "colorbar": {
              "outlinewidth": 0,
              "ticks": ""
             }
            },
            "type": "scattercarpet"
           }
          ],
          "scattergeo": [
           {
            "marker": {
             "colorbar": {
              "outlinewidth": 0,
              "ticks": ""
             }
            },
            "type": "scattergeo"
           }
          ],
          "scattergl": [
           {
            "marker": {
             "colorbar": {
              "outlinewidth": 0,
              "ticks": ""
             }
            },
            "type": "scattergl"
           }
          ],
          "scattermapbox": [
           {
            "marker": {
             "colorbar": {
              "outlinewidth": 0,
              "ticks": ""
             }
            },
            "type": "scattermapbox"
           }
          ],
          "scatterpolar": [
           {
            "marker": {
             "colorbar": {
              "outlinewidth": 0,
              "ticks": ""
             }
            },
            "type": "scatterpolar"
           }
          ],
          "scatterpolargl": [
           {
            "marker": {
             "colorbar": {
              "outlinewidth": 0,
              "ticks": ""
             }
            },
            "type": "scatterpolargl"
           }
          ],
          "scatterternary": [
           {
            "marker": {
             "colorbar": {
              "outlinewidth": 0,
              "ticks": ""
             }
            },
            "type": "scatterternary"
           }
          ],
          "surface": [
           {
            "colorbar": {
             "outlinewidth": 0,
             "ticks": ""
            },
            "colorscale": [
             [
              0,
              "#0d0887"
             ],
             [
              0.1111111111111111,
              "#46039f"
             ],
             [
              0.2222222222222222,
              "#7201a8"
             ],
             [
              0.3333333333333333,
              "#9c179e"
             ],
             [
              0.4444444444444444,
              "#bd3786"
             ],
             [
              0.5555555555555556,
              "#d8576b"
             ],
             [
              0.6666666666666666,
              "#ed7953"
             ],
             [
              0.7777777777777778,
              "#fb9f3a"
             ],
             [
              0.8888888888888888,
              "#fdca26"
             ],
             [
              1,
              "#f0f921"
             ]
            ],
            "type": "surface"
           }
          ],
          "table": [
           {
            "cells": {
             "fill": {
              "color": "#EBF0F8"
             },
             "line": {
              "color": "white"
             }
            },
            "header": {
             "fill": {
              "color": "#C8D4E3"
             },
             "line": {
              "color": "white"
             }
            },
            "type": "table"
           }
          ]
         },
         "layout": {
          "annotationdefaults": {
           "arrowcolor": "#2a3f5f",
           "arrowhead": 0,
           "arrowwidth": 1
          },
          "autotypenumbers": "strict",
          "coloraxis": {
           "colorbar": {
            "outlinewidth": 0,
            "ticks": ""
           }
          },
          "colorscale": {
           "diverging": [
            [
             0,
             "#8e0152"
            ],
            [
             0.1,
             "#c51b7d"
            ],
            [
             0.2,
             "#de77ae"
            ],
            [
             0.3,
             "#f1b6da"
            ],
            [
             0.4,
             "#fde0ef"
            ],
            [
             0.5,
             "#f7f7f7"
            ],
            [
             0.6,
             "#e6f5d0"
            ],
            [
             0.7,
             "#b8e186"
            ],
            [
             0.8,
             "#7fbc41"
            ],
            [
             0.9,
             "#4d9221"
            ],
            [
             1,
             "#276419"
            ]
           ],
           "sequential": [
            [
             0,
             "#0d0887"
            ],
            [
             0.1111111111111111,
             "#46039f"
            ],
            [
             0.2222222222222222,
             "#7201a8"
            ],
            [
             0.3333333333333333,
             "#9c179e"
            ],
            [
             0.4444444444444444,
             "#bd3786"
            ],
            [
             0.5555555555555556,
             "#d8576b"
            ],
            [
             0.6666666666666666,
             "#ed7953"
            ],
            [
             0.7777777777777778,
             "#fb9f3a"
            ],
            [
             0.8888888888888888,
             "#fdca26"
            ],
            [
             1,
             "#f0f921"
            ]
           ],
           "sequentialminus": [
            [
             0,
             "#0d0887"
            ],
            [
             0.1111111111111111,
             "#46039f"
            ],
            [
             0.2222222222222222,
             "#7201a8"
            ],
            [
             0.3333333333333333,
             "#9c179e"
            ],
            [
             0.4444444444444444,
             "#bd3786"
            ],
            [
             0.5555555555555556,
             "#d8576b"
            ],
            [
             0.6666666666666666,
             "#ed7953"
            ],
            [
             0.7777777777777778,
             "#fb9f3a"
            ],
            [
             0.8888888888888888,
             "#fdca26"
            ],
            [
             1,
             "#f0f921"
            ]
           ]
          },
          "colorway": [
           "#636efa",
           "#EF553B",
           "#00cc96",
           "#ab63fa",
           "#FFA15A",
           "#19d3f3",
           "#FF6692",
           "#B6E880",
           "#FF97FF",
           "#FECB52"
          ],
          "font": {
           "color": "#2a3f5f"
          },
          "geo": {
           "bgcolor": "white",
           "lakecolor": "white",
           "landcolor": "#E5ECF6",
           "showlakes": true,
           "showland": true,
           "subunitcolor": "white"
          },
          "hoverlabel": {
           "align": "left"
          },
          "hovermode": "closest",
          "mapbox": {
           "style": "light"
          },
          "paper_bgcolor": "white",
          "plot_bgcolor": "#E5ECF6",
          "polar": {
           "angularaxis": {
            "gridcolor": "white",
            "linecolor": "white",
            "ticks": ""
           },
           "bgcolor": "#E5ECF6",
           "radialaxis": {
            "gridcolor": "white",
            "linecolor": "white",
            "ticks": ""
           }
          },
          "scene": {
           "xaxis": {
            "backgroundcolor": "#E5ECF6",
            "gridcolor": "white",
            "gridwidth": 2,
            "linecolor": "white",
            "showbackground": true,
            "ticks": "",
            "zerolinecolor": "white"
           },
           "yaxis": {
            "backgroundcolor": "#E5ECF6",
            "gridcolor": "white",
            "gridwidth": 2,
            "linecolor": "white",
            "showbackground": true,
            "ticks": "",
            "zerolinecolor": "white"
           },
           "zaxis": {
            "backgroundcolor": "#E5ECF6",
            "gridcolor": "white",
            "gridwidth": 2,
            "linecolor": "white",
            "showbackground": true,
            "ticks": "",
            "zerolinecolor": "white"
           }
          },
          "shapedefaults": {
           "line": {
            "color": "#2a3f5f"
           }
          },
          "ternary": {
           "aaxis": {
            "gridcolor": "white",
            "linecolor": "white",
            "ticks": ""
           },
           "baxis": {
            "gridcolor": "white",
            "linecolor": "white",
            "ticks": ""
           },
           "bgcolor": "#E5ECF6",
           "caxis": {
            "gridcolor": "white",
            "linecolor": "white",
            "ticks": ""
           }
          },
          "title": {
           "x": 0.05
          },
          "xaxis": {
           "automargin": true,
           "gridcolor": "white",
           "linecolor": "white",
           "ticks": "",
           "title": {
            "standoff": 15
           },
           "zerolinecolor": "white",
           "zerolinewidth": 2
          },
          "yaxis": {
           "automargin": true,
           "gridcolor": "white",
           "linecolor": "white",
           "ticks": "",
           "title": {
            "standoff": 15
           },
           "zerolinecolor": "white",
           "zerolinewidth": 2
          }
         }
        },
        "title": {
         "text": "Распределение sick_leave_days по полу"
        },
        "xaxis": {
         "anchor": "y",
         "domain": [
          0,
          1
         ],
         "title": {
          "text": "sick_leave_days"
         }
        },
        "yaxis": {
         "anchor": "x",
         "domain": [
          0,
          1
         ],
         "title": {
          "text": "Частота"
         }
        }
       }
      }
     },
     "metadata": {},
     "output_type": "display_data"
    }
   ],
   "source": [
    "# График распределения sick_leave_days для мужчин и женщин (первоначальный масштаб) ----\n",
    "male_data   = filtered_data[filtered_data['gender'] == 'M']\n",
    "female_data = filtered_data[filtered_data['gender'] == 'F']\n",
    "\n",
    "fig1 = px.histogram(\n",
    "                        filtered_data, x='sick_leave_days', \n",
    "                        color='gender', \n",
    "                        title='Распределение sick_leave_days по полу'\n",
    "                    )\n",
    "\n",
    "fig1.update_layout(\n",
    "                        title='Распределение sick_leave_days по полу',\n",
    "                        xaxis=dict(title='sick_leave_days'),\n",
    "                        yaxis=dict(title='Частота')\n",
    "                    )\n",
    "\n",
    "fig1.show()\n"
   ]
  },
  {
   "cell_type": "markdown",
   "metadata": {},
   "source": [
    "На графике плотности особенно видно, что распределения различаются незначительно"
   ]
  },
  {
   "cell_type": "code",
   "execution_count": 102,
   "metadata": {},
   "outputs": [
    {
     "data": {
      "application/vnd.plotly.v1+json": {
       "config": {
        "plotlyServerURL": "https://plot.ly"
       },
       "data": [
        {
         "legendgroup": "Мужчины",
         "marker": {
          "color": "blue"
         },
         "mode": "lines",
         "name": "Мужчины",
         "showlegend": true,
         "type": "scatter",
         "x": [
          3,
          3.01,
          3.02,
          3.03,
          3.04,
          3.05,
          3.06,
          3.07,
          3.08,
          3.09,
          3.1,
          3.11,
          3.12,
          3.13,
          3.14,
          3.15,
          3.16,
          3.17,
          3.18,
          3.19,
          3.2,
          3.21,
          3.22,
          3.23,
          3.24,
          3.25,
          3.26,
          3.27,
          3.2800000000000002,
          3.29,
          3.3,
          3.31,
          3.32,
          3.33,
          3.34,
          3.35,
          3.36,
          3.37,
          3.38,
          3.39,
          3.4,
          3.41,
          3.42,
          3.43,
          3.44,
          3.45,
          3.46,
          3.4699999999999998,
          3.48,
          3.49,
          3.5,
          3.51,
          3.52,
          3.5300000000000002,
          3.54,
          3.55,
          3.56,
          3.57,
          3.58,
          3.59,
          3.6,
          3.61,
          3.62,
          3.63,
          3.64,
          3.65,
          3.66,
          3.67,
          3.68,
          3.69,
          3.7,
          3.71,
          3.7199999999999998,
          3.73,
          3.74,
          3.75,
          3.76,
          3.77,
          3.7800000000000002,
          3.79,
          3.8,
          3.81,
          3.82,
          3.83,
          3.84,
          3.85,
          3.86,
          3.87,
          3.88,
          3.89,
          3.9,
          3.91,
          3.92,
          3.93,
          3.94,
          3.95,
          3.96,
          3.9699999999999998,
          3.98,
          3.99,
          4,
          4.01,
          4.02,
          4.03,
          4.04,
          4.05,
          4.0600000000000005,
          4.07,
          4.08,
          4.09,
          4.1,
          4.11,
          4.12,
          4.13,
          4.14,
          4.15,
          4.16,
          4.17,
          4.18,
          4.1899999999999995,
          4.2,
          4.21,
          4.22,
          4.23,
          4.24,
          4.25,
          4.26,
          4.27,
          4.28,
          4.29,
          4.3,
          4.3100000000000005,
          4.32,
          4.33,
          4.34,
          4.35,
          4.36,
          4.37,
          4.38,
          4.39,
          4.4,
          4.41,
          4.42,
          4.43,
          4.4399999999999995,
          4.45,
          4.46,
          4.47,
          4.48,
          4.49,
          4.5,
          4.51,
          4.52,
          4.53,
          4.54,
          4.55,
          4.5600000000000005,
          4.57,
          4.58,
          4.59,
          4.6,
          4.61,
          4.62,
          4.63,
          4.64,
          4.65,
          4.66,
          4.67,
          4.68,
          4.6899999999999995,
          4.7,
          4.71,
          4.72,
          4.73,
          4.74,
          4.75,
          4.76,
          4.77,
          4.78,
          4.79,
          4.8,
          4.8100000000000005,
          4.82,
          4.83,
          4.84,
          4.85,
          4.86,
          4.87,
          4.88,
          4.89,
          4.9,
          4.91,
          4.92,
          4.93,
          4.9399999999999995,
          4.95,
          4.96,
          4.97,
          4.98,
          4.99,
          5,
          5.01,
          5.02,
          5.029999999999999,
          5.04,
          5.05,
          5.0600000000000005,
          5.07,
          5.08,
          5.09,
          5.1,
          5.109999999999999,
          5.12,
          5.13,
          5.140000000000001,
          5.15,
          5.16,
          5.17,
          5.18,
          5.1899999999999995,
          5.2,
          5.21,
          5.220000000000001,
          5.23,
          5.24,
          5.25,
          5.26,
          5.27,
          5.279999999999999,
          5.29,
          5.3,
          5.3100000000000005,
          5.32,
          5.33,
          5.34,
          5.35,
          5.359999999999999,
          5.37,
          5.38,
          5.390000000000001,
          5.4,
          5.41,
          5.42,
          5.43,
          5.4399999999999995,
          5.45,
          5.46,
          5.470000000000001,
          5.48,
          5.49,
          5.5,
          5.51,
          5.52,
          5.529999999999999,
          5.54,
          5.55,
          5.5600000000000005,
          5.57,
          5.58,
          5.59,
          5.6,
          5.609999999999999,
          5.62,
          5.63,
          5.640000000000001,
          5.65,
          5.66,
          5.67,
          5.68,
          5.6899999999999995,
          5.7,
          5.71,
          5.720000000000001,
          5.73,
          5.74,
          5.75,
          5.76,
          5.77,
          5.779999999999999,
          5.79,
          5.8,
          5.8100000000000005,
          5.82,
          5.83,
          5.84,
          5.85,
          5.859999999999999,
          5.87,
          5.88,
          5.890000000000001,
          5.9,
          5.91,
          5.92,
          5.93,
          5.9399999999999995,
          5.95,
          5.96,
          5.970000000000001,
          5.98,
          5.99,
          6,
          6.01,
          6.02,
          6.029999999999999,
          6.04,
          6.05,
          6.0600000000000005,
          6.07,
          6.08,
          6.09,
          6.1,
          6.109999999999999,
          6.12,
          6.13,
          6.140000000000001,
          6.15,
          6.16,
          6.17,
          6.18,
          6.1899999999999995,
          6.2,
          6.21,
          6.220000000000001,
          6.23,
          6.24,
          6.25,
          6.26,
          6.27,
          6.279999999999999,
          6.29,
          6.3,
          6.3100000000000005,
          6.32,
          6.33,
          6.34,
          6.35,
          6.359999999999999,
          6.37,
          6.38,
          6.390000000000001,
          6.4,
          6.41,
          6.42,
          6.43,
          6.4399999999999995,
          6.45,
          6.46,
          6.470000000000001,
          6.48,
          6.49,
          6.5,
          6.51,
          6.52,
          6.529999999999999,
          6.54,
          6.55,
          6.5600000000000005,
          6.57,
          6.58,
          6.59,
          6.6,
          6.609999999999999,
          6.62,
          6.63,
          6.640000000000001,
          6.65,
          6.66,
          6.67,
          6.68,
          6.6899999999999995,
          6.7,
          6.71,
          6.720000000000001,
          6.73,
          6.74,
          6.75,
          6.76,
          6.77,
          6.779999999999999,
          6.79,
          6.8,
          6.8100000000000005,
          6.82,
          6.83,
          6.84,
          6.85,
          6.859999999999999,
          6.87,
          6.88,
          6.890000000000001,
          6.9,
          6.91,
          6.92,
          6.93,
          6.9399999999999995,
          6.95,
          6.96,
          6.970000000000001,
          6.98,
          6.99,
          7,
          7.01,
          7.02,
          7.03,
          7.04,
          7.05,
          7.06,
          7.07,
          7.08,
          7.09,
          7.1,
          7.11,
          7.12,
          7.13,
          7.14,
          7.15,
          7.16,
          7.17,
          7.18,
          7.19,
          7.2,
          7.21,
          7.22,
          7.23,
          7.24,
          7.25,
          7.26,
          7.27,
          7.28,
          7.29,
          7.3,
          7.31,
          7.32,
          7.33,
          7.34,
          7.35,
          7.36,
          7.37,
          7.38,
          7.39,
          7.4,
          7.41,
          7.42,
          7.43,
          7.44,
          7.45,
          7.46,
          7.47,
          7.48,
          7.49,
          7.5,
          7.51,
          7.52,
          7.53,
          7.54,
          7.55,
          7.56,
          7.57,
          7.58,
          7.59,
          7.6,
          7.61,
          7.62,
          7.63,
          7.64,
          7.65,
          7.66,
          7.67,
          7.68,
          7.69,
          7.7,
          7.71,
          7.72,
          7.73,
          7.74,
          7.75,
          7.76,
          7.77,
          7.78,
          7.79,
          7.8,
          7.81,
          7.82,
          7.83,
          7.84,
          7.85,
          7.86,
          7.87,
          7.88,
          7.89,
          7.9,
          7.91,
          7.92,
          7.93,
          7.94,
          7.95,
          7.96,
          7.97,
          7.98,
          7.99
         ],
         "xaxis": "x",
         "y": [
          0.29301764497442534,
          0.29438569286312993,
          0.2957126382905963,
          0.2969984686816649,
          0.2982432034238916,
          0.29944689330225416,
          0.30060961988280693,
          0.301731494846886,
          0.30281265927756496,
          0.3038532829002063,
          0.3048535632790372,
          0.30581372497179865,
          0.3067340186446149,
          0.30761472014932123,
          0.3084561295655813,
          0.30925857021020187,
          0.3100223876161313,
          0.3107479484837092,
          0.31143563960676457,
          0.3120858667762553,
          0.31269905366415823,
          0.31327564069037445,
          0.31381608387544224,
          0.3143208536818758,
          0.3147904338469662,
          0.3152253202098834,
          0.31562601953592934,
          0.31599304834078135,
          0.31632693171754167,
          0.3166282021694012,
          0.31689739845068576,
          0.3171350644190151,
          0.31734174790126246,
          0.3175179995759477,
          0.31766437187463814,
          0.3177814179048563,
          0.3178696903969307,
          0.31792974067713897,
          0.31796211766939614,
          0.3179673669276631,
          0.3179460297011446,
          0.31789864203422663,
          0.31782573390302027,
          0.3177278283902332,
          0.31760544089999826,
          0.31745907841413934,
          0.31728923879124743,
          0.3170964101097911,
          0.31688107005637123,
          0.31664368536006965,
          0.31638471127371914,
          0.31610459110278344,
          0.31580375578237757,
          0.3154826235028337,
          0.31514159938406405,
          0.31478107519883936,
          0.314401429144944,
          0.314003025666048,
          0.3135862153209738,
          0.31315133470092194,
          0.3126987063940621,
          0.312228638996776,
          0.3117414271707092,
          0.31123735174465345,
          0.31071667986016505,
          0.3101796651597149,
          0.30962654801602485,
          0.3090575558011795,
          0.3084729031939511,
          0.3078727925237168,
          0.30725741414923435,
          0.30662694687045966,
          0.305981558371517,
          0.3053214056928513,
          0.3046466357305341,
          0.3039573857606229,
          0.3032537839864382,
          0.30253595010656453,
          0.3018039959013451,
          0.30105802583561875,
          0.3002981376754122,
          0.29952442311629623,
          0.2987369684210979,
          0.29793585506466363,
          0.2971211603833769,
          0.29629295822714236,
          0.2954513196115743,
          0.29459631336815634,
          0.29372800679016314,
          0.292846466272197,
          0.2919517579412165,
          0.2910439482770111,
          0.29012310472011954,
          0.2891892962652645,
          0.28824259403845043,
          0.2872830718559401,
          0.28631080676341497,
          0.28532587955371325,
          0.28432837526161786,
          0.2833183836342846,
          0.2822959995759747,
          0.2812613235658754,
          0.2802144620478988,
          0.2791555277914367,
          0.27808464022218893,
          0.277001925722266,
          0.27590751789890355,
          0.2748015578212234,
          0.27368419422459755,
          0.2725555836822894,
          0.2714158907441558,
          0.27026528804230837,
          0.269103956363751,
          0.26793208469011437,
          0.2667498702047236,
          0.2655575182673481,
          0.2643552423570713,
          0.26314326398384397,
          0.2619218125693625,
          0.2606911252980329,
          0.2594514469388479,
          0.2582030296391179,
          0.2569461326910679,
          0.2556810222723925,
          0.2544079711619459,
          0.2531272584318015,
          0.25183916911699455,
          0.2505439938643136,
          0.24924202856156144,
          0.2479335739487595,
          0.24661893521281253,
          0.24529842156718712,
          0.24397234581818616,
          0.24264102391944387,
          0.24130477451625912,
          0.23996391848143123,
          0.2386187784442409,
          0.23726967831425289,
          0.23591694280157913,
          0.23456089693527246,
          0.2332018655814681,
          0.23184017296290502,
          0.23047614218140275,
          0.2291100947448735,
          0.22774235010038005,
          0.22637322517473837,
          0.22500303392410176,
          0.2236320868939218,
          0.22226069079063082,
          0.22088914806632665,
          0.21951775651768263,
          0.21814680890024954,
          0.2167765925592329,
          0.21540738907777665,
          0.2140394739436961,
          0.21267311623554105,
          0.21130857832878205,
          0.20994611562284246,
          0.2085859762896107,
          0.20722840104399656,
          0.20587362293699912,
          0.20452186717168427,
          0.20317335094238043,
          0.20182828329731525,
          0.200486865024844,
          0.19914928856332476,
          0.1978157379346259,
          0.19648638870116872,
          0.19516140794632195,
          0.19384095427790274,
          0.19252517785445045,
          0.1912142204338763,
          0.18990821544401434,
          0.1886072880745434,
          0.18731155538967145,
          0.18602112646092037,
          0.18473610251929448,
          0.18345657712604843,
          0.182182636361235,
          0.180914359029151,
          0.17965181687976797,
          0.1783950748451817,
          0.1771441912900945,
          0.17589921827529426,
          0.17466020183308098,
          0.1734271822535593,
          0.17220019438069933,
          0.17097926791705434,
          0.16976442773600078,
          0.1685556942003814,
          0.16735308348640363,
          0.16615660791166273,
          0.16496627626616078,
          0.1637820941451971,
          0.16260406428301907,
          0.1614321868861449,
          0.16026645996527972,
          0.15910687966477619,
          0.1579534405886149,
          0.1568061361219087,
          0.1556649587469696,
          0.15452990035300937,
          0.1534009525385847,
          0.15227810690593718,
          0.15116135534642383,
          0.15005069031627016,
          0.148946105101936,
          0.1478475940744254,
          0.14675515293191682,
          0.14566877893015587,
          0.1445884711000869,
          0.14351423045226622,
          0.1424460601676443,
          0.14138396577436446,
          0.14032795531027267,
          0.1392780394708947,
          0.13823423174268487,
          0.13719654852140495,
          0.13616500921554758,
          0.13513963633476553,
          0.13412045556332777,
          0.13310749581866027,
          0.1321007892950898,
          0.1311003714929529,
          0.1301062812332723,
          0.12911856065825836,
          0.12813725521791947,
          0.127162413643123,
          0.1261940879054719,
          0.12523233316440507,
          0.1242772077019629,
          0.12332877284568845,
          0.1223870928801619,
          0.12145223494769875,
          0.12052426893875878,
          0.11960326737263698,
          0.11868930526902635,
          0.11778246001105754,
          0.11688281120043557,
          0.11599044050529876,
          0.11510543150144212,
          0.11422786950754471,
          0.11335784141504683,
          0.11249543551332468,
          0.11164074131080506,
          0.11079384935266001,
          0.10995485103571556,
          0.10912383842119724,
          0.10830090404592609,
          0.10748614073256502,
          0.10667964139950112,
          0.10588149887093047,
          0.10509180568769785,
          0.10431065391941728,
          0.10353813497838327,
          0.10277433943575821,
          0.10201935684049379,
          0.10127327554142437,
          0.10053618251293965,
          0.0998081631846192,
          0.0990893012751815,
          0.0983796786310757,
          0.09767937507001057,
          0.09698846822968908,
          0.09630703342198749,
          0.0956351434927895,
          0.09497286868765308,
          0.09432027652346218,
          0.09367743166618864,
          0.09304439581485532,
          0.09242122759177032,
          0.09180798243907126,
          0.09120471252159527,
          0.0906114666360639,
          0.09002829012654757,
          0.08945522480615303,
          0.0888923088848539,
          0.08833957690336464,
          0.08779705967293765,
          0.08726478422094867,
          0.08674277374211324,
          0.0862310475551689,
          0.08572962106483804,
          0.08523850572887981,
          0.08475770903002389,
          0.08428723445257182,
          0.08382708146344865,
          0.08337724549747298,
          0.0829377179466181,
          0.08250848615302778,
          0.082089533405553,
          0.08168083893957458,
          0.0812823779398788,
          0.08089412154635517,
          0.0805160368622936,
          0.08014808696505846,
          0.07979023091893038,
          0.07944242378990882,
          0.07910461666228472,
          0.07877675665679468,
          0.07845878695018828,
          0.0781506467960454,
          0.07785227154669862,
          0.07756359267612525,
          0.0772845378036928,
          0.07701503071865066,
          0.07675499140528359,
          0.07650433606865155,
          0.07626297716085947,
          0.07603082340781829,
          0.07580777983647098,
          0.07559374780247717,
          0.07538862501836255,
          0.07519230558215788,
          0.0750046800065673,
          0.07482563524871837,
          0.07465505474056426,
          0.07449281842002005,
          0.07433880276292902,
          0.07419288081596863,
          0.07405492223061563,
          0.07392479329830061,
          0.07380235698689627,
          0.0736874729786867,
          0.07357999770997568,
          0.0734797844125026,
          0.07338668315683101,
          0.07330054089788941,
          0.07322120152283951,
          0.07314850590145475,
          0.0730822919391874,
          0.07302239463310792,
          0.0729686461308922,
          0.07292087579303462,
          0.07287891025845855,
          0.07284257351368854,
          0.07281168696574469,
          0.07278606951890956,
          0.07276553765551111,
          0.07274990552085009,
          0.07273898501239577,
          0.07273258587335453,
          0.07273051579070698,
          0.07273258049779319,
          0.07273858388150775,
          0.07274832809415709,
          0.07276161367000455,
          0.07277823964652087,
          0.07279800369033157,
          0.07282070222783936,
          0.0728461305804768,
          0.07287408310452657,
          0.0729043533354263,
          0.07293673413645457,
          0.07297101785167293,
          0.07300699646298305,
          0.073044461751131,
          0.07308320546047638,
          0.07312301946732147,
          0.0731636959515758,
          0.07320502757151323,
          0.07324680764136007,
          0.0732888303114348,
          0.07333089075053953,
          0.07337278533029401,
          0.07341431181107724,
          0.07345526952923731,
          0.07349545958520642,
          0.07353468503215345,
          0.07357275106478949,
          0.07360946520793302,
          0.07364463750443176,
          0.07367808070203107,
          0.07370961043877136,
          0.07373904542649055,
          0.0737662076320053,
          0.0737909224555436,
          0.07381301890599441,
          0.07383232977254872,
          0.07384869179230134,
          0.07386194581338934,
          0.07387193695324837,
          0.07387851475157346,
          0.07388153331757775,
          0.07388085147115529,
          0.07387633287756033,
          0.07386784617523388,
          0.07385526509641352,
          0.07383846858018721,
          0.07381734087765927,
          0.07379177164891998,
          0.07376165605152797,
          0.07372689482023136,
          0.07368739433767842,
          0.07364306669588969,
          0.07359382974828418,
          0.07353960715207811,
          0.07348032840090028,
          0.07341592884749047,
          0.07334634971637528,
          0.07327153810644225,
          0.07319144698335989,
          0.07310603516181716,
          0.07301526727758688,
          0.07291911374944153,
          0.07281755073097926,
          0.07271056005244805,
          0.07259812915267988,
          0.07248025100127607,
          0.07235692401121369,
          0.07222815194206612,
          0.07209394379406288,
          0.07195431369323212,
          0.07180928076790145,
          0.07165886901685371,
          0.071503107169458,
          0.07134202853811904,
          0.0711756708634113,
          0.07100407615228259,
          0.07082729050973349,
          0.07064536396439598,
          0.07045835028845086,
          0.07026630681234373,
          0.07006929423476717,
          0.06986737642839541,
          0.06966062024186648,
          0.06944909529851706,
          0.06923287379238541,
          0.06901203028200265,
          0.06878664148249915,
          0.06855678605655714,
          0.06832254440474148,
          0.06808399845574226,
          0.06784123145706178,
          0.06759432776667443,
          0.06734337264618707,
          0.067088452056017,
          0.0668296524531022,
          0.06656706059164617,
          0.0663007633273906,
          0.06603084742589738,
          0.06575739937530864,
          0.06548050520403725,
          0.06520025030382583,
          0.06491671925859564,
          0.06462999567948557,
          0.0643401620464651,
          0.06404729955688282,
          0.06375148798128974,
          0.06345280552685721,
          0.06315132870868113,
          0.06284713222924442,
          0.0625402888662823,
          0.06223086936926978,
          0.0619189423647253,
          0.06160457427049793,
          0.06128782921917667,
          0.0609687689907384,
          0.06064745295451607,
          0.06032393802054902,
          0.05999827860034373,
          0.05967052657705128,
          0.059340731285034976,
          0.059008939498779084,
          0.0586751954310626,
          0.058339540740291095,
          0.05800201454686227,
          0.057662653458405246,
          0.05732149160372041,
          0.05697856067521251,
          0.05663388997959363,
          0.05628750649660843,
          0.055939434945509854,
          0.055589697858999344,
          0.055238315664320047,
          0.05488530677117726,
          0.05453068766614186,
          0.05417447301317709,
          0.05381667575991336,
          0.05345730724928423,
          0.05309637733612203,
          0.052733894508302966,
          0.05236986601202176,
          0.05200429798076473,
          0.05163719556754881,
          0.05126856307998313,
          0.05089840411770897,
          0.05052672171177067,
          0.05015351846546673,
          0.049778796696233765,
          0.04940255857811402,
          0.0490248062843619,
          0.048645542129747234,
          0.04826476871212069,
          0.04788248905280984,
          0.04749870673542553,
          0.04711342604266382,
          0.04672665209070176,
          0.04633839096079316,
          0.045948649827686074
         ],
         "yaxis": "y"
        },
        {
         "legendgroup": "Женщины",
         "marker": {
          "color": "red"
         },
         "mode": "lines",
         "name": "Женщины",
         "showlegend": true,
         "type": "scatter",
         "x": [
          3,
          3.01,
          3.02,
          3.03,
          3.04,
          3.05,
          3.06,
          3.07,
          3.08,
          3.09,
          3.1,
          3.11,
          3.12,
          3.13,
          3.14,
          3.15,
          3.16,
          3.17,
          3.18,
          3.19,
          3.2,
          3.21,
          3.22,
          3.23,
          3.24,
          3.25,
          3.26,
          3.27,
          3.2800000000000002,
          3.29,
          3.3,
          3.31,
          3.32,
          3.33,
          3.34,
          3.35,
          3.36,
          3.37,
          3.38,
          3.39,
          3.4,
          3.41,
          3.42,
          3.43,
          3.44,
          3.45,
          3.46,
          3.4699999999999998,
          3.48,
          3.49,
          3.5,
          3.51,
          3.52,
          3.5300000000000002,
          3.54,
          3.55,
          3.56,
          3.57,
          3.58,
          3.59,
          3.6,
          3.61,
          3.62,
          3.63,
          3.64,
          3.65,
          3.66,
          3.67,
          3.68,
          3.69,
          3.7,
          3.71,
          3.7199999999999998,
          3.73,
          3.74,
          3.75,
          3.76,
          3.77,
          3.7800000000000002,
          3.79,
          3.8,
          3.81,
          3.82,
          3.83,
          3.84,
          3.85,
          3.86,
          3.87,
          3.88,
          3.89,
          3.9,
          3.91,
          3.92,
          3.93,
          3.94,
          3.95,
          3.96,
          3.9699999999999998,
          3.98,
          3.99,
          4,
          4.01,
          4.02,
          4.03,
          4.04,
          4.05,
          4.0600000000000005,
          4.07,
          4.08,
          4.09,
          4.1,
          4.11,
          4.12,
          4.13,
          4.14,
          4.15,
          4.16,
          4.17,
          4.18,
          4.1899999999999995,
          4.2,
          4.21,
          4.22,
          4.23,
          4.24,
          4.25,
          4.26,
          4.27,
          4.28,
          4.29,
          4.3,
          4.3100000000000005,
          4.32,
          4.33,
          4.34,
          4.35,
          4.36,
          4.37,
          4.38,
          4.39,
          4.4,
          4.41,
          4.42,
          4.43,
          4.4399999999999995,
          4.45,
          4.46,
          4.47,
          4.48,
          4.49,
          4.5,
          4.51,
          4.52,
          4.53,
          4.54,
          4.55,
          4.5600000000000005,
          4.57,
          4.58,
          4.59,
          4.6,
          4.61,
          4.62,
          4.63,
          4.64,
          4.65,
          4.66,
          4.67,
          4.68,
          4.6899999999999995,
          4.7,
          4.71,
          4.72,
          4.73,
          4.74,
          4.75,
          4.76,
          4.77,
          4.78,
          4.79,
          4.8,
          4.8100000000000005,
          4.82,
          4.83,
          4.84,
          4.85,
          4.86,
          4.87,
          4.88,
          4.89,
          4.9,
          4.91,
          4.92,
          4.93,
          4.9399999999999995,
          4.95,
          4.96,
          4.97,
          4.98,
          4.99,
          5,
          5.01,
          5.02,
          5.029999999999999,
          5.04,
          5.05,
          5.0600000000000005,
          5.07,
          5.08,
          5.09,
          5.1,
          5.109999999999999,
          5.12,
          5.13,
          5.140000000000001,
          5.15,
          5.16,
          5.17,
          5.18,
          5.1899999999999995,
          5.2,
          5.21,
          5.220000000000001,
          5.23,
          5.24,
          5.25,
          5.26,
          5.27,
          5.279999999999999,
          5.29,
          5.3,
          5.3100000000000005,
          5.32,
          5.33,
          5.34,
          5.35,
          5.359999999999999,
          5.37,
          5.38,
          5.390000000000001,
          5.4,
          5.41,
          5.42,
          5.43,
          5.4399999999999995,
          5.45,
          5.46,
          5.470000000000001,
          5.48,
          5.49,
          5.5,
          5.51,
          5.52,
          5.529999999999999,
          5.54,
          5.55,
          5.5600000000000005,
          5.57,
          5.58,
          5.59,
          5.6,
          5.609999999999999,
          5.62,
          5.63,
          5.640000000000001,
          5.65,
          5.66,
          5.67,
          5.68,
          5.6899999999999995,
          5.7,
          5.71,
          5.720000000000001,
          5.73,
          5.74,
          5.75,
          5.76,
          5.77,
          5.779999999999999,
          5.79,
          5.8,
          5.8100000000000005,
          5.82,
          5.83,
          5.84,
          5.85,
          5.859999999999999,
          5.87,
          5.88,
          5.890000000000001,
          5.9,
          5.91,
          5.92,
          5.93,
          5.9399999999999995,
          5.95,
          5.96,
          5.970000000000001,
          5.98,
          5.99,
          6,
          6.01,
          6.02,
          6.029999999999999,
          6.04,
          6.05,
          6.0600000000000005,
          6.07,
          6.08,
          6.09,
          6.1,
          6.109999999999999,
          6.12,
          6.13,
          6.140000000000001,
          6.15,
          6.16,
          6.17,
          6.18,
          6.1899999999999995,
          6.2,
          6.21,
          6.220000000000001,
          6.23,
          6.24,
          6.25,
          6.26,
          6.27,
          6.279999999999999,
          6.29,
          6.3,
          6.3100000000000005,
          6.32,
          6.33,
          6.34,
          6.35,
          6.359999999999999,
          6.37,
          6.38,
          6.390000000000001,
          6.4,
          6.41,
          6.42,
          6.43,
          6.4399999999999995,
          6.45,
          6.46,
          6.470000000000001,
          6.48,
          6.49,
          6.5,
          6.51,
          6.52,
          6.529999999999999,
          6.54,
          6.55,
          6.5600000000000005,
          6.57,
          6.58,
          6.59,
          6.6,
          6.609999999999999,
          6.62,
          6.63,
          6.640000000000001,
          6.65,
          6.66,
          6.67,
          6.68,
          6.6899999999999995,
          6.7,
          6.71,
          6.720000000000001,
          6.73,
          6.74,
          6.75,
          6.76,
          6.77,
          6.779999999999999,
          6.79,
          6.8,
          6.8100000000000005,
          6.82,
          6.83,
          6.84,
          6.85,
          6.859999999999999,
          6.87,
          6.88,
          6.890000000000001,
          6.9,
          6.91,
          6.92,
          6.93,
          6.9399999999999995,
          6.95,
          6.96,
          6.970000000000001,
          6.98,
          6.99,
          7,
          7.01,
          7.02,
          7.03,
          7.04,
          7.05,
          7.06,
          7.07,
          7.08,
          7.09,
          7.1,
          7.11,
          7.12,
          7.13,
          7.14,
          7.15,
          7.16,
          7.17,
          7.18,
          7.19,
          7.2,
          7.21,
          7.22,
          7.23,
          7.24,
          7.25,
          7.26,
          7.27,
          7.28,
          7.29,
          7.3,
          7.31,
          7.32,
          7.33,
          7.34,
          7.35,
          7.36,
          7.37,
          7.38,
          7.39,
          7.4,
          7.41,
          7.42,
          7.43,
          7.44,
          7.45,
          7.46,
          7.47,
          7.48,
          7.49,
          7.5,
          7.51,
          7.52,
          7.53,
          7.54,
          7.55,
          7.56,
          7.57,
          7.58,
          7.59,
          7.6,
          7.61,
          7.62,
          7.63,
          7.64,
          7.65,
          7.66,
          7.67,
          7.68,
          7.69,
          7.7,
          7.71,
          7.72,
          7.73,
          7.74,
          7.75,
          7.76,
          7.77,
          7.78,
          7.79,
          7.8,
          7.81,
          7.82,
          7.83,
          7.84,
          7.85,
          7.86,
          7.87,
          7.88,
          7.89,
          7.9,
          7.91,
          7.92,
          7.93,
          7.94,
          7.95,
          7.96,
          7.97,
          7.98,
          7.99
         ],
         "xaxis": "x",
         "y": [
          0.297540877854196,
          0.29909856997376627,
          0.3006101428060871,
          0.3020758807534892,
          0.3034961196494516,
          0.30487124522029385,
          0.3062016914274987,
          0.30748793869484586,
          0.30873051202491253,
          0.30992997900985464,
          0.3110869477417037,
          0.3122020646277683,
          0.3132760121170212,
          0.3143095063436478,
          0.3153032946942275,
          0.3162581533052594,
          0.31717488449798614,
          0.31805431415770324,
          0.3188972890649179,
          0.31970467418591175,
          0.3204773499304068,
          0.3212162093841608,
          0.3219221555244319,
          0.32259609842631565,
          0.32323895246802914,
          0.3238516335432276,
          0.32443505628845887,
          0.3249901313338227,
          0.3255177625848616,
          0.3260188445436273,
          0.3264942596767787,
          0.3269448758384196,
          0.32737154375525357,
          0.3277750945814374,
          0.3281563375303316,
          0.3285160575900994,
          0.32885501332987827,
          0.329173934802961,
          0.32947352155313797,
          0.3297544407300378,
          0.3300173253189693,
          0.33026277249041847,
          0.3304913420739782,
          0.3307035551611188,
          0.3308998928407826,
          0.33108079507140004,
          0.33124665969247463,
          0.331397841578464,
          0.3315346519372297,
          0.3316573577548738,
          0.3317661813883291,
          0.33186130030659305,
          0.33194284698103554,
          0.3320109089247406,
          0.33206552888037044,
          0.3321067051555703,
          0.33213439210447887,
          0.3321485007534354,
          0.3321488995685359,
          0.33213541536223146,
          0.33210783433574553,
          0.33206590325364377,
          0.3320093307464902,
          0.33193778873712687,
          0.3318509139857226,
          0.33174830974838376,
          0.3316295475437627,
          0.33149416902177486,
          0.3313416879282305,
          0.33117159215888875,
          0.33098334589620126,
          0.33077639182173196,
          0.3305501533970687,
          0.33030403720580526,
          0.33003743534903945,
          0.3297497278866599,
          0.3294402853166096,
          0.3291084710841934,
          0.32875364411345653,
          0.32837516135261113,
          0.3279723803254866,
          0.3275446616809912,
          0.3270913717326206,
          0.3266118849801119,
          0.3261055866054484,
          0.3255718749355377,
          0.3250101638640234,
          0.3244198852248832,
          0.32380049111063364,
          0.3231514561282122,
          0.32247227958581365,
          0.32176248760424464,
          0.32102163514663545,
          0.3202493079606319,
          0.3194451244275385,
          0.31860873731319117,
          0.31773983541570305,
          0.31683814510558816,
          0.3159034317541452,
          0.314935501046361,
          0.3139342001750214,
          0.3128994189130808,
          0.3118310905617927,
          0.31072919277250033,
          0.30959374824042535,
          0.3084248252691917,
          0.3072225382052845,
          0.30598704774203306,
          0.3047185610931554,
          0.303417332036308,
          0.3020836608275022,
          0.30071789398765975,
          0.2993204239629742,
          0.297891688661138,
          0.29643217086587725,
          0.294942397532602,
          0.2934229389683304,
          0.2918744078993995,
          0.2902974584307803,
          0.288692784901148,
          0.2870611206381285,
          0.2854032366184299,
          0.28371994003781476,
          0.2820120727961111,
          0.28028050990266773,
          0.2785261578078536,
          0.2767499526663844,
          0.2749528585383926,
          0.27313586553429614,
          0.2712999879096313,
          0.2694462621160815,
          0.2675757448150178,
          0.2656895108598836,
          0.26378865125378265,
          0.26187427108862743,
          0.2599474874721635,
          0.258009427449143,
          0.2560612259228561,
          0.2541040235831149,
          0.25213896484670256,
          0.2501671958161398,
          0.24818986226248993,
          0.24620810763774478,
          0.24422307112215508,
          0.2422358857116567,
          0.24024767635033967,
          0.23825955811266708,
          0.23627263443990093,
          0.23428799543495205,
          0.23230671621958063,
          0.2303298553576126,
          0.228358453347543,
          0.22639353118759836,
          0.2244360890160375,
          0.22248710482915726,
          0.22054753327915594,
          0.2186183045537056,
          0.21670032333875308,
          0.2147944678657661,
          0.2129015890443193,
          0.21102250968060543,
          0.20915802378214554,
          0.20730889594866098,
          0.20547586084878217,
          0.20365962278196312,
          0.2018608553246863,
          0.20008020105976934,
          0.19831827138731387,
          0.19657564641556752,
          0.19485287492974543,
          0.19315047443659705,
          0.19146893128229364,
          0.18980870084100274,
          0.1881702077713143,
          0.18655384633750374,
          0.18495998079244885,
          0.18338894581887016,
          0.18184104702542456,
          0.18031656149406167,
          0.17881573837495146,
          0.17733879952520482,
          0.17588594018753423,
          0.17445732970495118,
          0.17305311226755926,
          0.17167340768747386,
          0.1703183121979098,
          0.16898789927246496,
          0.16768222046068423,
          0.16640130623600094,
          0.16514516685223288,
          0.1639137932048664,
          0.16270715769345734,
          0.16152521508156886,
          0.1603679033507866,
          0.1592351445454657,
          0.15812684560501017,
          0.15704289918062325,
          0.1559831844336284,
          0.15494756781262545,
          0.15393590380692465,
          0.15294803567387028,
          0.15198379613787344,
          0.15104300805915477,
          0.15012548507039805,
          0.1492310321797294,
          0.14835944633863146,
          0.1475105169736209,
          0.14668402648072487,
          0.14587975068200124,
          0.14509745924356232,
          0.14433691605477247,
          0.14359787956849138,
          0.1428801031024456,
          0.14218333510201409,
          0.14150731936489935,
          0.14085179522835942,
          0.14021649771985478,
          0.1396011576721428,
          0.1390055018040252,
          0.13842925276811668,
          0.13787212916715644,
          0.13733384554053088,
          0.13681411232280824,
          0.1363126357762187,
          0.13582911789911561,
          0.13536325631257223,
          0.1349147441273491,
          0.1344832697935545,
          0.13406851693538765,
          0.13367016417341163,
          0.13328788493685048,
          0.13292134726843424,
          0.13257021362434135,
          0.13223414067179154,
          0.13191277908684707,
          0.13160577335495532,
          0.131312761576748,
          0.13103337528156897,
          0.13076723925115546,
          0.13051397135583556,
          0.13027318240553648,
          0.1300444760178144,
          0.12982744850502584,
          0.1296216887826671,
          0.1294267783007851,
          0.12924229100026405,
          0.12906779329565082,
          0.1289028440860625,
          0.128746994795573,
          0.12859978944433487,
          0.12846076475154378,
          0.12832945027119622,
          0.1282053685614341,
          0.1280880353881112,
          0.12797695996304764,
          0.12787164521727912,
          0.12777158810943653,
          0.12767627996922598,
          0.12758520687581504,
          0.12749785007076112,
          0.127413686404958,
          0.12733218881891314,
          0.12725282685550965,
          0.12717506720425328,
          0.1270983742758531,
          0.12702221080584047,
          0.1269460384857871,
          0.12686931862055548,
          0.12679151280987894,
          0.12671208365245556,
          0.12663049547062177,
          0.12654621505356997,
          0.12645871241697376,
          0.12636746157680148,
          0.12627194133501138,
          0.1261716360747622,
          0.12606603656270246,
          0.12595464075585705,
          0.12583695461058791,
          0.1257124928910704,
          0.1255807799747134,
          0.12544135065193346,
          0.12529375091769673,
          0.12513753875224978,
          0.12497228488848193,
          0.12479757356338875,
          0.12461300325114445,
          0.12441818737534666,
          0.12421275499804274,
          0.12399635148322567,
          0.123768639132555,
          0.1235292977911461,
          0.12327802542136239,
          0.12301453864264414,
          0.12273857323551549,
          0.12244988460802324,
          0.12214824822298415,
          0.12183345998453925,
          0.12150533658264995,
          0.1211637157943,
          0.12080845674031601,
          0.12043944009685646,
          0.12005656826076753,
          0.11965976546815787,
          0.11924897786569189,
          0.11882417353425473,
          0.11838534246479863,
          0.11793249648633312,
          0.11746566914617311,
          0.11698491554271824,
          0.11649031211118042,
          0.11598195636283208,
          0.11545996657849313,
          0.11492448145711769,
          0.11437565972048112,
          0.11381367967510701,
          0.11323873873270406,
          0.11265105289050774,
          0.11205085617304436,
          0.11143840003695342,
          0.11081395274060492,
          0.11017779868036187,
          0.10953023769542299,
          0.10887158434327711,
          0.10820216714787831,
          0.10752232782272089,
          0.10683242047106678,
          0.10613281076562538,
          0.10542387511004131,
          0.1047059997845856,
          0.10397958007847177,
          0.10324501941125103,
          0.1025027284457484,
          0.10175312419501316,
          0.10099662912575011,
          0.10023367026069435,
          0.0994646782823692,
          0.09869008664064081,
          0.09791033066645335,
          0.09712584669407812,
          0.09633707119417152,
          0.09554443991986954,
          0.09474838706808798,
          0.09394934445813245,
          0.09314774072962977,
          0.09234400056173242,
          0.09153854391543562,
          0.09073178530077428,
          0.08992413307055352,
          0.08911598874217207,
          0.08830774634898858,
          0.08749979182257143,
          0.08669250240705581,
          0.08588624610672309,
          0.08508138116778852,
          0.08427825559527533,
          0.08347720670571893,
          0.08267856071633374,
          0.08188263237114486,
          0.08108972460446466,
          0.08030012824197637,
          0.07951412173955945,
          0.07873197095987385,
          0.0779539289866004,
          0.07718023597611892,
          0.07641111904629162,
          0.07564679220190447,
          0.07488745629621617,
          0.07413329902795583,
          0.07338449497301133,
          0.07264120564995243,
          0.07190357961844274,
          0.07117175260950413,
          0.0704458476865176,
          0.06972597543576455,
          0.069012234185242,
          0.06830471025041969,
          0.06760347820554269,
          0.06690860117903333,
          0.0662201311714908,
          0.06553810939475137,
          0.06486256663042779,
          0.06419352360632118,
          0.0635309913890693,
          0.06287497179138204,
          0.06222545779219579,
          0.06158243396807709,
          0.060945876934201934,
          0.06031575579324473,
          0.059692032590518036,
          0.05907466277372601,
          0.058463595655709626,
          0.05785877487859601,
          0.05726013887778811,
          0.0566676213442764,
          0.05608115168378759,
          0.05550065547133862,
          0.054926054899805905,
          0.05435726922118436,
          0.053794215179255346,
          0.05323680743245474,
          0.05268495896579011,
          0.052138581490722716,
          0.05159758583200152,
          0.051061882300504347,
          0.050531381051218766,
          0.05000599242556367,
          0.049485627277333986,
          0.04897019728162469,
          0.04845961522616746,
          0.04795379528459293,
          0.04745265327120693,
          0.04695610687694833,
          0.04646407588627219,
          0.04597648237477863,
          0.04549325088748203,
          0.045014308597689845,
          0.0445395854465328,
          0.04406901426325724,
          0.04360253086646051,
          0.04314007414651546,
          0.04268158612949335,
          0.042227012022958164,
          0.0417763002440593,
          0.04132940243041083,
          0.04088627343429044,
          0.0404468713007485,
          0.04001115723025628,
          0.03957909552656894,
          0.03915065353051633,
          0.038725801540468965,
          0.038304512720260274,
          0.03788676299537164,
          0.03747253093821236,
          0.03706179764334649,
          0.036654546593535745,
          0.03625076351747996,
          0.03585043624014589,
          0.03545355452658194,
          0.035060109920117405,
          0.03467009557584304,
          0.03428350609026773,
          0.03390033732803338,
          0.0335205862465641,
          0.03314425071950685,
          0.03277132935980622,
          0.032401821343234785,
          0.032035726233177214,
          0.03167304380744209,
          0.03131377388784632,
          0.030957916173287497,
          0.030605470076987766,
          0.03025643456855804,
          0.02991080802149617,
          0.029568588066695302,
          0.02922977145249993,
          0.02889435391180663,
          0.028562330036667534,
          0.028233693160810893,
          0.02790843525045096,
          0.027586546803718515,
          0.027268016758997985,
          0.026952832412414866,
          0.026640979344674406,
          0.02633244135740885,
          0.026027200419147946,
          0.025725236620986257,
          0.025426528141978363,
          0.025131051224253048,
          0.02483878015779787,
          0.02454968727482764,
          0.0242637429536115,
          0.023980915631599067,
          0.023701171827650833,
          0.023424476173144883,
          0.023150791451701173,
          0.022880078647234372,
          0.0226122970000196,
          0.022347404070427748,
          0.02208535580996493,
          0.021826106639226645,
          0.021569609532358945,
          0.021315816107599764,
          0.021064676723457576,
          0.02081614058007121,
          0.020570155825282585,
          0.020326669664944456,
          0.02008562847697695,
          0.01984697792868195,
          0.019610663096820486,
          0.0193766285899561,
          0.019144818672568245,
          0.01891517739044115,
          0.018687648696838522,
          0.018462176578980426,
          0.01823870518434389,
          0.018017178946321925,
          0.017797542708782973,
          0.017579741849087154,
          0.01736372239912834
         ],
         "yaxis": "y"
        },
        {
         "legendgroup": "Мужчины",
         "marker": {
          "color": "blue",
          "symbol": "line-ns-open"
         },
         "mode": "markers",
         "name": "Мужчины",
         "showlegend": false,
         "type": "scatter",
         "x": [
          4,
          4,
          5,
          4,
          4,
          4,
          3,
          3,
          3,
          3,
          3,
          3,
          5,
          3,
          7,
          7,
          3,
          5,
          4,
          3,
          4,
          4,
          4,
          3,
          5,
          6,
          3,
          4,
          3,
          4,
          3,
          5,
          3,
          5,
          3,
          4,
          3,
          4,
          3,
          3,
          6,
          4,
          3,
          6,
          4,
          3,
          4,
          8,
          4,
          8,
          4,
          5,
          6,
          4,
          6,
          5,
          8,
          3,
          7,
          4,
          7,
          4,
          3,
          7,
          3,
          3,
          8,
          7,
          4,
          4,
          3,
          4,
          3,
          3,
          5,
          3,
          4,
          7,
          5,
          3,
          3,
          5,
          5,
          3
         ],
         "xaxis": "x",
         "y": [
          "Мужчины",
          "Мужчины",
          "Мужчины",
          "Мужчины",
          "Мужчины",
          "Мужчины",
          "Мужчины",
          "Мужчины",
          "Мужчины",
          "Мужчины",
          "Мужчины",
          "Мужчины",
          "Мужчины",
          "Мужчины",
          "Мужчины",
          "Мужчины",
          "Мужчины",
          "Мужчины",
          "Мужчины",
          "Мужчины",
          "Мужчины",
          "Мужчины",
          "Мужчины",
          "Мужчины",
          "Мужчины",
          "Мужчины",
          "Мужчины",
          "Мужчины",
          "Мужчины",
          "Мужчины",
          "Мужчины",
          "Мужчины",
          "Мужчины",
          "Мужчины",
          "Мужчины",
          "Мужчины",
          "Мужчины",
          "Мужчины",
          "Мужчины",
          "Мужчины",
          "Мужчины",
          "Мужчины",
          "Мужчины",
          "Мужчины",
          "Мужчины",
          "Мужчины",
          "Мужчины",
          "Мужчины",
          "Мужчины",
          "Мужчины",
          "Мужчины",
          "Мужчины",
          "Мужчины",
          "Мужчины",
          "Мужчины",
          "Мужчины",
          "Мужчины",
          "Мужчины",
          "Мужчины",
          "Мужчины",
          "Мужчины",
          "Мужчины",
          "Мужчины",
          "Мужчины",
          "Мужчины",
          "Мужчины",
          "Мужчины",
          "Мужчины",
          "Мужчины",
          "Мужчины",
          "Мужчины",
          "Мужчины",
          "Мужчины",
          "Мужчины",
          "Мужчины",
          "Мужчины",
          "Мужчины",
          "Мужчины",
          "Мужчины",
          "Мужчины",
          "Мужчины",
          "Мужчины",
          "Мужчины",
          "Мужчины"
         ],
         "yaxis": "y2"
        },
        {
         "legendgroup": "Женщины",
         "marker": {
          "color": "red",
          "symbol": "line-ns-open"
         },
         "mode": "markers",
         "name": "Женщины",
         "showlegend": false,
         "type": "scatter",
         "x": [
          5,
          3,
          3,
          5,
          4,
          3,
          3,
          4,
          4,
          3,
          4,
          4,
          4,
          6,
          6,
          3,
          4,
          5,
          4,
          4,
          7,
          3,
          4,
          3,
          7,
          4,
          3,
          3,
          3,
          3,
          8,
          6,
          6,
          5,
          3,
          4,
          5,
          4,
          6,
          5,
          4,
          4,
          6,
          6,
          3,
          3,
          6,
          5,
          3,
          4,
          4,
          3,
          3,
          3,
          5,
          4,
          4,
          4,
          4,
          3,
          7,
          3,
          3,
          6,
          3,
          4,
          4
         ],
         "xaxis": "x",
         "y": [
          "Женщины",
          "Женщины",
          "Женщины",
          "Женщины",
          "Женщины",
          "Женщины",
          "Женщины",
          "Женщины",
          "Женщины",
          "Женщины",
          "Женщины",
          "Женщины",
          "Женщины",
          "Женщины",
          "Женщины",
          "Женщины",
          "Женщины",
          "Женщины",
          "Женщины",
          "Женщины",
          "Женщины",
          "Женщины",
          "Женщины",
          "Женщины",
          "Женщины",
          "Женщины",
          "Женщины",
          "Женщины",
          "Женщины",
          "Женщины",
          "Женщины",
          "Женщины",
          "Женщины",
          "Женщины",
          "Женщины",
          "Женщины",
          "Женщины",
          "Женщины",
          "Женщины",
          "Женщины",
          "Женщины",
          "Женщины",
          "Женщины",
          "Женщины",
          "Женщины",
          "Женщины",
          "Женщины",
          "Женщины",
          "Женщины",
          "Женщины",
          "Женщины",
          "Женщины",
          "Женщины",
          "Женщины",
          "Женщины",
          "Женщины",
          "Женщины",
          "Женщины",
          "Женщины",
          "Женщины",
          "Женщины",
          "Женщины",
          "Женщины",
          "Женщины",
          "Женщины",
          "Женщины",
          "Женщины"
         ],
         "yaxis": "y2"
        }
       ],
       "layout": {
        "barmode": "overlay",
        "hovermode": "closest",
        "legend": {
         "traceorder": "reversed"
        },
        "template": {
         "data": {
          "bar": [
           {
            "error_x": {
             "color": "#2a3f5f"
            },
            "error_y": {
             "color": "#2a3f5f"
            },
            "marker": {
             "line": {
              "color": "#E5ECF6",
              "width": 0.5
             },
             "pattern": {
              "fillmode": "overlay",
              "size": 10,
              "solidity": 0.2
             }
            },
            "type": "bar"
           }
          ],
          "barpolar": [
           {
            "marker": {
             "line": {
              "color": "#E5ECF6",
              "width": 0.5
             },
             "pattern": {
              "fillmode": "overlay",
              "size": 10,
              "solidity": 0.2
             }
            },
            "type": "barpolar"
           }
          ],
          "carpet": [
           {
            "aaxis": {
             "endlinecolor": "#2a3f5f",
             "gridcolor": "white",
             "linecolor": "white",
             "minorgridcolor": "white",
             "startlinecolor": "#2a3f5f"
            },
            "baxis": {
             "endlinecolor": "#2a3f5f",
             "gridcolor": "white",
             "linecolor": "white",
             "minorgridcolor": "white",
             "startlinecolor": "#2a3f5f"
            },
            "type": "carpet"
           }
          ],
          "choropleth": [
           {
            "colorbar": {
             "outlinewidth": 0,
             "ticks": ""
            },
            "type": "choropleth"
           }
          ],
          "contour": [
           {
            "colorbar": {
             "outlinewidth": 0,
             "ticks": ""
            },
            "colorscale": [
             [
              0,
              "#0d0887"
             ],
             [
              0.1111111111111111,
              "#46039f"
             ],
             [
              0.2222222222222222,
              "#7201a8"
             ],
             [
              0.3333333333333333,
              "#9c179e"
             ],
             [
              0.4444444444444444,
              "#bd3786"
             ],
             [
              0.5555555555555556,
              "#d8576b"
             ],
             [
              0.6666666666666666,
              "#ed7953"
             ],
             [
              0.7777777777777778,
              "#fb9f3a"
             ],
             [
              0.8888888888888888,
              "#fdca26"
             ],
             [
              1,
              "#f0f921"
             ]
            ],
            "type": "contour"
           }
          ],
          "contourcarpet": [
           {
            "colorbar": {
             "outlinewidth": 0,
             "ticks": ""
            },
            "type": "contourcarpet"
           }
          ],
          "heatmap": [
           {
            "colorbar": {
             "outlinewidth": 0,
             "ticks": ""
            },
            "colorscale": [
             [
              0,
              "#0d0887"
             ],
             [
              0.1111111111111111,
              "#46039f"
             ],
             [
              0.2222222222222222,
              "#7201a8"
             ],
             [
              0.3333333333333333,
              "#9c179e"
             ],
             [
              0.4444444444444444,
              "#bd3786"
             ],
             [
              0.5555555555555556,
              "#d8576b"
             ],
             [
              0.6666666666666666,
              "#ed7953"
             ],
             [
              0.7777777777777778,
              "#fb9f3a"
             ],
             [
              0.8888888888888888,
              "#fdca26"
             ],
             [
              1,
              "#f0f921"
             ]
            ],
            "type": "heatmap"
           }
          ],
          "heatmapgl": [
           {
            "colorbar": {
             "outlinewidth": 0,
             "ticks": ""
            },
            "colorscale": [
             [
              0,
              "#0d0887"
             ],
             [
              0.1111111111111111,
              "#46039f"
             ],
             [
              0.2222222222222222,
              "#7201a8"
             ],
             [
              0.3333333333333333,
              "#9c179e"
             ],
             [
              0.4444444444444444,
              "#bd3786"
             ],
             [
              0.5555555555555556,
              "#d8576b"
             ],
             [
              0.6666666666666666,
              "#ed7953"
             ],
             [
              0.7777777777777778,
              "#fb9f3a"
             ],
             [
              0.8888888888888888,
              "#fdca26"
             ],
             [
              1,
              "#f0f921"
             ]
            ],
            "type": "heatmapgl"
           }
          ],
          "histogram": [
           {
            "marker": {
             "pattern": {
              "fillmode": "overlay",
              "size": 10,
              "solidity": 0.2
             }
            },
            "type": "histogram"
           }
          ],
          "histogram2d": [
           {
            "colorbar": {
             "outlinewidth": 0,
             "ticks": ""
            },
            "colorscale": [
             [
              0,
              "#0d0887"
             ],
             [
              0.1111111111111111,
              "#46039f"
             ],
             [
              0.2222222222222222,
              "#7201a8"
             ],
             [
              0.3333333333333333,
              "#9c179e"
             ],
             [
              0.4444444444444444,
              "#bd3786"
             ],
             [
              0.5555555555555556,
              "#d8576b"
             ],
             [
              0.6666666666666666,
              "#ed7953"
             ],
             [
              0.7777777777777778,
              "#fb9f3a"
             ],
             [
              0.8888888888888888,
              "#fdca26"
             ],
             [
              1,
              "#f0f921"
             ]
            ],
            "type": "histogram2d"
           }
          ],
          "histogram2dcontour": [
           {
            "colorbar": {
             "outlinewidth": 0,
             "ticks": ""
            },
            "colorscale": [
             [
              0,
              "#0d0887"
             ],
             [
              0.1111111111111111,
              "#46039f"
             ],
             [
              0.2222222222222222,
              "#7201a8"
             ],
             [
              0.3333333333333333,
              "#9c179e"
             ],
             [
              0.4444444444444444,
              "#bd3786"
             ],
             [
              0.5555555555555556,
              "#d8576b"
             ],
             [
              0.6666666666666666,
              "#ed7953"
             ],
             [
              0.7777777777777778,
              "#fb9f3a"
             ],
             [
              0.8888888888888888,
              "#fdca26"
             ],
             [
              1,
              "#f0f921"
             ]
            ],
            "type": "histogram2dcontour"
           }
          ],
          "mesh3d": [
           {
            "colorbar": {
             "outlinewidth": 0,
             "ticks": ""
            },
            "type": "mesh3d"
           }
          ],
          "parcoords": [
           {
            "line": {
             "colorbar": {
              "outlinewidth": 0,
              "ticks": ""
             }
            },
            "type": "parcoords"
           }
          ],
          "pie": [
           {
            "automargin": true,
            "type": "pie"
           }
          ],
          "scatter": [
           {
            "fillpattern": {
             "fillmode": "overlay",
             "size": 10,
             "solidity": 0.2
            },
            "type": "scatter"
           }
          ],
          "scatter3d": [
           {
            "line": {
             "colorbar": {
              "outlinewidth": 0,
              "ticks": ""
             }
            },
            "marker": {
             "colorbar": {
              "outlinewidth": 0,
              "ticks": ""
             }
            },
            "type": "scatter3d"
           }
          ],
          "scattercarpet": [
           {
            "marker": {
             "colorbar": {
              "outlinewidth": 0,
              "ticks": ""
             }
            },
            "type": "scattercarpet"
           }
          ],
          "scattergeo": [
           {
            "marker": {
             "colorbar": {
              "outlinewidth": 0,
              "ticks": ""
             }
            },
            "type": "scattergeo"
           }
          ],
          "scattergl": [
           {
            "marker": {
             "colorbar": {
              "outlinewidth": 0,
              "ticks": ""
             }
            },
            "type": "scattergl"
           }
          ],
          "scattermapbox": [
           {
            "marker": {
             "colorbar": {
              "outlinewidth": 0,
              "ticks": ""
             }
            },
            "type": "scattermapbox"
           }
          ],
          "scatterpolar": [
           {
            "marker": {
             "colorbar": {
              "outlinewidth": 0,
              "ticks": ""
             }
            },
            "type": "scatterpolar"
           }
          ],
          "scatterpolargl": [
           {
            "marker": {
             "colorbar": {
              "outlinewidth": 0,
              "ticks": ""
             }
            },
            "type": "scatterpolargl"
           }
          ],
          "scatterternary": [
           {
            "marker": {
             "colorbar": {
              "outlinewidth": 0,
              "ticks": ""
             }
            },
            "type": "scatterternary"
           }
          ],
          "surface": [
           {
            "colorbar": {
             "outlinewidth": 0,
             "ticks": ""
            },
            "colorscale": [
             [
              0,
              "#0d0887"
             ],
             [
              0.1111111111111111,
              "#46039f"
             ],
             [
              0.2222222222222222,
              "#7201a8"
             ],
             [
              0.3333333333333333,
              "#9c179e"
             ],
             [
              0.4444444444444444,
              "#bd3786"
             ],
             [
              0.5555555555555556,
              "#d8576b"
             ],
             [
              0.6666666666666666,
              "#ed7953"
             ],
             [
              0.7777777777777778,
              "#fb9f3a"
             ],
             [
              0.8888888888888888,
              "#fdca26"
             ],
             [
              1,
              "#f0f921"
             ]
            ],
            "type": "surface"
           }
          ],
          "table": [
           {
            "cells": {
             "fill": {
              "color": "#EBF0F8"
             },
             "line": {
              "color": "white"
             }
            },
            "header": {
             "fill": {
              "color": "#C8D4E3"
             },
             "line": {
              "color": "white"
             }
            },
            "type": "table"
           }
          ]
         },
         "layout": {
          "annotationdefaults": {
           "arrowcolor": "#2a3f5f",
           "arrowhead": 0,
           "arrowwidth": 1
          },
          "autotypenumbers": "strict",
          "coloraxis": {
           "colorbar": {
            "outlinewidth": 0,
            "ticks": ""
           }
          },
          "colorscale": {
           "diverging": [
            [
             0,
             "#8e0152"
            ],
            [
             0.1,
             "#c51b7d"
            ],
            [
             0.2,
             "#de77ae"
            ],
            [
             0.3,
             "#f1b6da"
            ],
            [
             0.4,
             "#fde0ef"
            ],
            [
             0.5,
             "#f7f7f7"
            ],
            [
             0.6,
             "#e6f5d0"
            ],
            [
             0.7,
             "#b8e186"
            ],
            [
             0.8,
             "#7fbc41"
            ],
            [
             0.9,
             "#4d9221"
            ],
            [
             1,
             "#276419"
            ]
           ],
           "sequential": [
            [
             0,
             "#0d0887"
            ],
            [
             0.1111111111111111,
             "#46039f"
            ],
            [
             0.2222222222222222,
             "#7201a8"
            ],
            [
             0.3333333333333333,
             "#9c179e"
            ],
            [
             0.4444444444444444,
             "#bd3786"
            ],
            [
             0.5555555555555556,
             "#d8576b"
            ],
            [
             0.6666666666666666,
             "#ed7953"
            ],
            [
             0.7777777777777778,
             "#fb9f3a"
            ],
            [
             0.8888888888888888,
             "#fdca26"
            ],
            [
             1,
             "#f0f921"
            ]
           ],
           "sequentialminus": [
            [
             0,
             "#0d0887"
            ],
            [
             0.1111111111111111,
             "#46039f"
            ],
            [
             0.2222222222222222,
             "#7201a8"
            ],
            [
             0.3333333333333333,
             "#9c179e"
            ],
            [
             0.4444444444444444,
             "#bd3786"
            ],
            [
             0.5555555555555556,
             "#d8576b"
            ],
            [
             0.6666666666666666,
             "#ed7953"
            ],
            [
             0.7777777777777778,
             "#fb9f3a"
            ],
            [
             0.8888888888888888,
             "#fdca26"
            ],
            [
             1,
             "#f0f921"
            ]
           ]
          },
          "colorway": [
           "#636efa",
           "#EF553B",
           "#00cc96",
           "#ab63fa",
           "#FFA15A",
           "#19d3f3",
           "#FF6692",
           "#B6E880",
           "#FF97FF",
           "#FECB52"
          ],
          "font": {
           "color": "#2a3f5f"
          },
          "geo": {
           "bgcolor": "white",
           "lakecolor": "white",
           "landcolor": "#E5ECF6",
           "showlakes": true,
           "showland": true,
           "subunitcolor": "white"
          },
          "hoverlabel": {
           "align": "left"
          },
          "hovermode": "closest",
          "mapbox": {
           "style": "light"
          },
          "paper_bgcolor": "white",
          "plot_bgcolor": "#E5ECF6",
          "polar": {
           "angularaxis": {
            "gridcolor": "white",
            "linecolor": "white",
            "ticks": ""
           },
           "bgcolor": "#E5ECF6",
           "radialaxis": {
            "gridcolor": "white",
            "linecolor": "white",
            "ticks": ""
           }
          },
          "scene": {
           "xaxis": {
            "backgroundcolor": "#E5ECF6",
            "gridcolor": "white",
            "gridwidth": 2,
            "linecolor": "white",
            "showbackground": true,
            "ticks": "",
            "zerolinecolor": "white"
           },
           "yaxis": {
            "backgroundcolor": "#E5ECF6",
            "gridcolor": "white",
            "gridwidth": 2,
            "linecolor": "white",
            "showbackground": true,
            "ticks": "",
            "zerolinecolor": "white"
           },
           "zaxis": {
            "backgroundcolor": "#E5ECF6",
            "gridcolor": "white",
            "gridwidth": 2,
            "linecolor": "white",
            "showbackground": true,
            "ticks": "",
            "zerolinecolor": "white"
           }
          },
          "shapedefaults": {
           "line": {
            "color": "#2a3f5f"
           }
          },
          "ternary": {
           "aaxis": {
            "gridcolor": "white",
            "linecolor": "white",
            "ticks": ""
           },
           "baxis": {
            "gridcolor": "white",
            "linecolor": "white",
            "ticks": ""
           },
           "bgcolor": "#E5ECF6",
           "caxis": {
            "gridcolor": "white",
            "linecolor": "white",
            "ticks": ""
           }
          },
          "title": {
           "x": 0.05
          },
          "xaxis": {
           "automargin": true,
           "gridcolor": "white",
           "linecolor": "white",
           "ticks": "",
           "title": {
            "standoff": 15
           },
           "zerolinecolor": "white",
           "zerolinewidth": 2
          },
          "yaxis": {
           "automargin": true,
           "gridcolor": "white",
           "linecolor": "white",
           "ticks": "",
           "title": {
            "standoff": 15
           },
           "zerolinecolor": "white",
           "zerolinewidth": 2
          }
         }
        },
        "title": {
         "text": "Плотность sick_leave_days по полу"
        },
        "xaxis": {
         "anchor": "y2",
         "domain": [
          0,
          1
         ],
         "title": {
          "text": "sick_leave_days"
         },
         "zeroline": false
        },
        "yaxis": {
         "anchor": "free",
         "domain": [
          0.35,
          1
         ],
         "position": 0,
         "title": {
          "text": "Плотность"
         }
        },
        "yaxis2": {
         "anchor": "x",
         "domain": [
          0,
          0.25
         ],
         "dtick": 1,
         "showticklabels": false
        }
       }
      }
     },
     "metadata": {},
     "output_type": "display_data"
    }
   ],
   "source": [
    "# График плотности\n",
    "fig1 = ff.create_distplot(\n",
    "    [male_data['sick_leave_days'], female_data['sick_leave_days']],\n",
    "    group_labels=['Мужчины', 'Женщины'],\n",
    "    colors=['blue', 'red'],\n",
    "    show_hist=False  # Hide histograms, show only density curves\n",
    ")\n",
    "\n",
    "fig1.update_layout(\n",
    "    title='Плотность sick_leave_days по полу',\n",
    "    xaxis=dict(title='sick_leave_days'),\n",
    "    yaxis=dict(title='Плотность')\n",
    ")\n",
    "\n",
    "fig1.show()"
   ]
  },
  {
   "cell_type": "markdown",
   "metadata": {},
   "source": [
    "# Взрослые vs Молодые"
   ]
  },
  {
   "cell_type": "code",
   "execution_count": 104,
   "metadata": {},
   "outputs": [
    {
     "data": {
      "application/vnd.plotly.v1+json": {
       "config": {
        "plotlyServerURL": "https://plot.ly"
       },
       "data": [
        {
         "name": "Старше 35 лет",
         "opacity": 0.5,
         "type": "histogram",
         "x": [
          5,
          4,
          5,
          4,
          3,
          4,
          3,
          5,
          3,
          3,
          3,
          3,
          3,
          3,
          5,
          3,
          4,
          4,
          7,
          7,
          3,
          3,
          5,
          4,
          4,
          3,
          4,
          4,
          6,
          6,
          4,
          4,
          3,
          3,
          3,
          5,
          3,
          4,
          3,
          4,
          3,
          5,
          3,
          6,
          4,
          4,
          4,
          7,
          3,
          3,
          4,
          3,
          6,
          4,
          7,
          3,
          4,
          3,
          3,
          3,
          3,
          8,
          8,
          6,
          5,
          3,
          4,
          4,
          5,
          5,
          6,
          4,
          6,
          4,
          6,
          5,
          5,
          4,
          6,
          8,
          6,
          3,
          3,
          3,
          4,
          6,
          7,
          5,
          3,
          3,
          7,
          4,
          4,
          4,
          3,
          3,
          5,
          3,
          4,
          3,
          4,
          3,
          4,
          7,
          3,
          3,
          4,
          3,
          5,
          6,
          3,
          3,
          4,
          4,
          3
         ]
        },
        {
         "name": "Моложе 35 лет",
         "opacity": 0.5,
         "type": "histogram",
         "x": [
          4,
          4,
          3,
          4,
          3,
          4,
          4,
          4,
          3,
          5,
          6,
          3,
          3,
          4,
          5,
          4,
          8,
          4,
          6,
          4,
          7,
          4,
          7,
          3,
          8,
          3,
          4,
          3,
          4,
          4,
          3,
          5,
          7,
          3,
          5,
          5
         ]
        }
       ],
       "layout": {
        "template": {
         "data": {
          "bar": [
           {
            "error_x": {
             "color": "#2a3f5f"
            },
            "error_y": {
             "color": "#2a3f5f"
            },
            "marker": {
             "line": {
              "color": "#E5ECF6",
              "width": 0.5
             },
             "pattern": {
              "fillmode": "overlay",
              "size": 10,
              "solidity": 0.2
             }
            },
            "type": "bar"
           }
          ],
          "barpolar": [
           {
            "marker": {
             "line": {
              "color": "#E5ECF6",
              "width": 0.5
             },
             "pattern": {
              "fillmode": "overlay",
              "size": 10,
              "solidity": 0.2
             }
            },
            "type": "barpolar"
           }
          ],
          "carpet": [
           {
            "aaxis": {
             "endlinecolor": "#2a3f5f",
             "gridcolor": "white",
             "linecolor": "white",
             "minorgridcolor": "white",
             "startlinecolor": "#2a3f5f"
            },
            "baxis": {
             "endlinecolor": "#2a3f5f",
             "gridcolor": "white",
             "linecolor": "white",
             "minorgridcolor": "white",
             "startlinecolor": "#2a3f5f"
            },
            "type": "carpet"
           }
          ],
          "choropleth": [
           {
            "colorbar": {
             "outlinewidth": 0,
             "ticks": ""
            },
            "type": "choropleth"
           }
          ],
          "contour": [
           {
            "colorbar": {
             "outlinewidth": 0,
             "ticks": ""
            },
            "colorscale": [
             [
              0,
              "#0d0887"
             ],
             [
              0.1111111111111111,
              "#46039f"
             ],
             [
              0.2222222222222222,
              "#7201a8"
             ],
             [
              0.3333333333333333,
              "#9c179e"
             ],
             [
              0.4444444444444444,
              "#bd3786"
             ],
             [
              0.5555555555555556,
              "#d8576b"
             ],
             [
              0.6666666666666666,
              "#ed7953"
             ],
             [
              0.7777777777777778,
              "#fb9f3a"
             ],
             [
              0.8888888888888888,
              "#fdca26"
             ],
             [
              1,
              "#f0f921"
             ]
            ],
            "type": "contour"
           }
          ],
          "contourcarpet": [
           {
            "colorbar": {
             "outlinewidth": 0,
             "ticks": ""
            },
            "type": "contourcarpet"
           }
          ],
          "heatmap": [
           {
            "colorbar": {
             "outlinewidth": 0,
             "ticks": ""
            },
            "colorscale": [
             [
              0,
              "#0d0887"
             ],
             [
              0.1111111111111111,
              "#46039f"
             ],
             [
              0.2222222222222222,
              "#7201a8"
             ],
             [
              0.3333333333333333,
              "#9c179e"
             ],
             [
              0.4444444444444444,
              "#bd3786"
             ],
             [
              0.5555555555555556,
              "#d8576b"
             ],
             [
              0.6666666666666666,
              "#ed7953"
             ],
             [
              0.7777777777777778,
              "#fb9f3a"
             ],
             [
              0.8888888888888888,
              "#fdca26"
             ],
             [
              1,
              "#f0f921"
             ]
            ],
            "type": "heatmap"
           }
          ],
          "heatmapgl": [
           {
            "colorbar": {
             "outlinewidth": 0,
             "ticks": ""
            },
            "colorscale": [
             [
              0,
              "#0d0887"
             ],
             [
              0.1111111111111111,
              "#46039f"
             ],
             [
              0.2222222222222222,
              "#7201a8"
             ],
             [
              0.3333333333333333,
              "#9c179e"
             ],
             [
              0.4444444444444444,
              "#bd3786"
             ],
             [
              0.5555555555555556,
              "#d8576b"
             ],
             [
              0.6666666666666666,
              "#ed7953"
             ],
             [
              0.7777777777777778,
              "#fb9f3a"
             ],
             [
              0.8888888888888888,
              "#fdca26"
             ],
             [
              1,
              "#f0f921"
             ]
            ],
            "type": "heatmapgl"
           }
          ],
          "histogram": [
           {
            "marker": {
             "pattern": {
              "fillmode": "overlay",
              "size": 10,
              "solidity": 0.2
             }
            },
            "type": "histogram"
           }
          ],
          "histogram2d": [
           {
            "colorbar": {
             "outlinewidth": 0,
             "ticks": ""
            },
            "colorscale": [
             [
              0,
              "#0d0887"
             ],
             [
              0.1111111111111111,
              "#46039f"
             ],
             [
              0.2222222222222222,
              "#7201a8"
             ],
             [
              0.3333333333333333,
              "#9c179e"
             ],
             [
              0.4444444444444444,
              "#bd3786"
             ],
             [
              0.5555555555555556,
              "#d8576b"
             ],
             [
              0.6666666666666666,
              "#ed7953"
             ],
             [
              0.7777777777777778,
              "#fb9f3a"
             ],
             [
              0.8888888888888888,
              "#fdca26"
             ],
             [
              1,
              "#f0f921"
             ]
            ],
            "type": "histogram2d"
           }
          ],
          "histogram2dcontour": [
           {
            "colorbar": {
             "outlinewidth": 0,
             "ticks": ""
            },
            "colorscale": [
             [
              0,
              "#0d0887"
             ],
             [
              0.1111111111111111,
              "#46039f"
             ],
             [
              0.2222222222222222,
              "#7201a8"
             ],
             [
              0.3333333333333333,
              "#9c179e"
             ],
             [
              0.4444444444444444,
              "#bd3786"
             ],
             [
              0.5555555555555556,
              "#d8576b"
             ],
             [
              0.6666666666666666,
              "#ed7953"
             ],
             [
              0.7777777777777778,
              "#fb9f3a"
             ],
             [
              0.8888888888888888,
              "#fdca26"
             ],
             [
              1,
              "#f0f921"
             ]
            ],
            "type": "histogram2dcontour"
           }
          ],
          "mesh3d": [
           {
            "colorbar": {
             "outlinewidth": 0,
             "ticks": ""
            },
            "type": "mesh3d"
           }
          ],
          "parcoords": [
           {
            "line": {
             "colorbar": {
              "outlinewidth": 0,
              "ticks": ""
             }
            },
            "type": "parcoords"
           }
          ],
          "pie": [
           {
            "automargin": true,
            "type": "pie"
           }
          ],
          "scatter": [
           {
            "fillpattern": {
             "fillmode": "overlay",
             "size": 10,
             "solidity": 0.2
            },
            "type": "scatter"
           }
          ],
          "scatter3d": [
           {
            "line": {
             "colorbar": {
              "outlinewidth": 0,
              "ticks": ""
             }
            },
            "marker": {
             "colorbar": {
              "outlinewidth": 0,
              "ticks": ""
             }
            },
            "type": "scatter3d"
           }
          ],
          "scattercarpet": [
           {
            "marker": {
             "colorbar": {
              "outlinewidth": 0,
              "ticks": ""
             }
            },
            "type": "scattercarpet"
           }
          ],
          "scattergeo": [
           {
            "marker": {
             "colorbar": {
              "outlinewidth": 0,
              "ticks": ""
             }
            },
            "type": "scattergeo"
           }
          ],
          "scattergl": [
           {
            "marker": {
             "colorbar": {
              "outlinewidth": 0,
              "ticks": ""
             }
            },
            "type": "scattergl"
           }
          ],
          "scattermapbox": [
           {
            "marker": {
             "colorbar": {
              "outlinewidth": 0,
              "ticks": ""
             }
            },
            "type": "scattermapbox"
           }
          ],
          "scatterpolar": [
           {
            "marker": {
             "colorbar": {
              "outlinewidth": 0,
              "ticks": ""
             }
            },
            "type": "scatterpolar"
           }
          ],
          "scatterpolargl": [
           {
            "marker": {
             "colorbar": {
              "outlinewidth": 0,
              "ticks": ""
             }
            },
            "type": "scatterpolargl"
           }
          ],
          "scatterternary": [
           {
            "marker": {
             "colorbar": {
              "outlinewidth": 0,
              "ticks": ""
             }
            },
            "type": "scatterternary"
           }
          ],
          "surface": [
           {
            "colorbar": {
             "outlinewidth": 0,
             "ticks": ""
            },
            "colorscale": [
             [
              0,
              "#0d0887"
             ],
             [
              0.1111111111111111,
              "#46039f"
             ],
             [
              0.2222222222222222,
              "#7201a8"
             ],
             [
              0.3333333333333333,
              "#9c179e"
             ],
             [
              0.4444444444444444,
              "#bd3786"
             ],
             [
              0.5555555555555556,
              "#d8576b"
             ],
             [
              0.6666666666666666,
              "#ed7953"
             ],
             [
              0.7777777777777778,
              "#fb9f3a"
             ],
             [
              0.8888888888888888,
              "#fdca26"
             ],
             [
              1,
              "#f0f921"
             ]
            ],
            "type": "surface"
           }
          ],
          "table": [
           {
            "cells": {
             "fill": {
              "color": "#EBF0F8"
             },
             "line": {
              "color": "white"
             }
            },
            "header": {
             "fill": {
              "color": "#C8D4E3"
             },
             "line": {
              "color": "white"
             }
            },
            "type": "table"
           }
          ]
         },
         "layout": {
          "annotationdefaults": {
           "arrowcolor": "#2a3f5f",
           "arrowhead": 0,
           "arrowwidth": 1
          },
          "autotypenumbers": "strict",
          "coloraxis": {
           "colorbar": {
            "outlinewidth": 0,
            "ticks": ""
           }
          },
          "colorscale": {
           "diverging": [
            [
             0,
             "#8e0152"
            ],
            [
             0.1,
             "#c51b7d"
            ],
            [
             0.2,
             "#de77ae"
            ],
            [
             0.3,
             "#f1b6da"
            ],
            [
             0.4,
             "#fde0ef"
            ],
            [
             0.5,
             "#f7f7f7"
            ],
            [
             0.6,
             "#e6f5d0"
            ],
            [
             0.7,
             "#b8e186"
            ],
            [
             0.8,
             "#7fbc41"
            ],
            [
             0.9,
             "#4d9221"
            ],
            [
             1,
             "#276419"
            ]
           ],
           "sequential": [
            [
             0,
             "#0d0887"
            ],
            [
             0.1111111111111111,
             "#46039f"
            ],
            [
             0.2222222222222222,
             "#7201a8"
            ],
            [
             0.3333333333333333,
             "#9c179e"
            ],
            [
             0.4444444444444444,
             "#bd3786"
            ],
            [
             0.5555555555555556,
             "#d8576b"
            ],
            [
             0.6666666666666666,
             "#ed7953"
            ],
            [
             0.7777777777777778,
             "#fb9f3a"
            ],
            [
             0.8888888888888888,
             "#fdca26"
            ],
            [
             1,
             "#f0f921"
            ]
           ],
           "sequentialminus": [
            [
             0,
             "#0d0887"
            ],
            [
             0.1111111111111111,
             "#46039f"
            ],
            [
             0.2222222222222222,
             "#7201a8"
            ],
            [
             0.3333333333333333,
             "#9c179e"
            ],
            [
             0.4444444444444444,
             "#bd3786"
            ],
            [
             0.5555555555555556,
             "#d8576b"
            ],
            [
             0.6666666666666666,
             "#ed7953"
            ],
            [
             0.7777777777777778,
             "#fb9f3a"
            ],
            [
             0.8888888888888888,
             "#fdca26"
            ],
            [
             1,
             "#f0f921"
            ]
           ]
          },
          "colorway": [
           "#636efa",
           "#EF553B",
           "#00cc96",
           "#ab63fa",
           "#FFA15A",
           "#19d3f3",
           "#FF6692",
           "#B6E880",
           "#FF97FF",
           "#FECB52"
          ],
          "font": {
           "color": "#2a3f5f"
          },
          "geo": {
           "bgcolor": "white",
           "lakecolor": "white",
           "landcolor": "#E5ECF6",
           "showlakes": true,
           "showland": true,
           "subunitcolor": "white"
          },
          "hoverlabel": {
           "align": "left"
          },
          "hovermode": "closest",
          "mapbox": {
           "style": "light"
          },
          "paper_bgcolor": "white",
          "plot_bgcolor": "#E5ECF6",
          "polar": {
           "angularaxis": {
            "gridcolor": "white",
            "linecolor": "white",
            "ticks": ""
           },
           "bgcolor": "#E5ECF6",
           "radialaxis": {
            "gridcolor": "white",
            "linecolor": "white",
            "ticks": ""
           }
          },
          "scene": {
           "xaxis": {
            "backgroundcolor": "#E5ECF6",
            "gridcolor": "white",
            "gridwidth": 2,
            "linecolor": "white",
            "showbackground": true,
            "ticks": "",
            "zerolinecolor": "white"
           },
           "yaxis": {
            "backgroundcolor": "#E5ECF6",
            "gridcolor": "white",
            "gridwidth": 2,
            "linecolor": "white",
            "showbackground": true,
            "ticks": "",
            "zerolinecolor": "white"
           },
           "zaxis": {
            "backgroundcolor": "#E5ECF6",
            "gridcolor": "white",
            "gridwidth": 2,
            "linecolor": "white",
            "showbackground": true,
            "ticks": "",
            "zerolinecolor": "white"
           }
          },
          "shapedefaults": {
           "line": {
            "color": "#2a3f5f"
           }
          },
          "ternary": {
           "aaxis": {
            "gridcolor": "white",
            "linecolor": "white",
            "ticks": ""
           },
           "baxis": {
            "gridcolor": "white",
            "linecolor": "white",
            "ticks": ""
           },
           "bgcolor": "#E5ECF6",
           "caxis": {
            "gridcolor": "white",
            "linecolor": "white",
            "ticks": ""
           }
          },
          "title": {
           "x": 0.05
          },
          "xaxis": {
           "automargin": true,
           "gridcolor": "white",
           "linecolor": "white",
           "ticks": "",
           "title": {
            "standoff": 15
           },
           "zerolinecolor": "white",
           "zerolinewidth": 2
          },
          "yaxis": {
           "automargin": true,
           "gridcolor": "white",
           "linecolor": "white",
           "ticks": "",
           "title": {
            "standoff": 15
           },
           "zerolinecolor": "white",
           "zerolinewidth": 2
          }
         }
        },
        "title": {
         "text": "Распределение sick_leave_days по возрасту"
        },
        "xaxis": {
         "title": {
          "text": "sick_leave_days"
         }
        },
        "yaxis": {
         "title": {
          "text": "Частота"
         }
        }
       }
      }
     },
     "metadata": {},
     "output_type": "display_data"
    }
   ],
   "source": [
    "# График распределения sick_leave_days для старше и моложе 35 лет (первоначальный масштаб)\n",
    "older_data   = filtered_data[filtered_data['age'] > 35]\n",
    "younger_data = filtered_data[filtered_data['age'] <= 35]\n",
    "\n",
    "fig2 = go.Figure()\n",
    "fig2.add_trace(go.Histogram(\n",
    "                                x=older_data['sick_leave_days'], \n",
    "                                opacity=0.5, \n",
    "                                name=f'Старше {35} лет'), \n",
    "                            )\n",
    "\n",
    "fig2.add_trace(go.Histogram(\n",
    "                                x=younger_data['sick_leave_days'], \n",
    "                                opacity=0.5, \n",
    "                                name=f'Моложе {35} лет')\n",
    "                            )\n",
    "fig2.update_layout(\n",
    "    title='Распределение sick_leave_days по возрасту',\n",
    "    xaxis=dict(title='sick_leave_days'),\n",
    "    yaxis=dict(title='Частота')\n",
    "\n",
    ")"
   ]
  },
  {
   "cell_type": "markdown",
   "metadata": {},
   "source": [
    "На графике плотности особенно видно, что распределения различаются незначительно"
   ]
  },
  {
   "cell_type": "code",
   "execution_count": 106,
   "metadata": {},
   "outputs": [
    {
     "data": {
      "application/vnd.plotly.v1+json": {
       "config": {
        "plotlyServerURL": "https://plot.ly"
       },
       "data": [
        {
         "legendgroup": "Старше 35",
         "marker": {
          "color": "blue"
         },
         "mode": "lines",
         "name": "Старше 35",
         "showlegend": true,
         "type": "scatter",
         "x": [
          3,
          3.01,
          3.02,
          3.03,
          3.04,
          3.05,
          3.06,
          3.07,
          3.08,
          3.09,
          3.1,
          3.11,
          3.12,
          3.13,
          3.14,
          3.15,
          3.16,
          3.17,
          3.18,
          3.19,
          3.2,
          3.21,
          3.22,
          3.23,
          3.24,
          3.25,
          3.26,
          3.27,
          3.2800000000000002,
          3.29,
          3.3,
          3.31,
          3.32,
          3.33,
          3.34,
          3.35,
          3.36,
          3.37,
          3.38,
          3.39,
          3.4,
          3.41,
          3.42,
          3.43,
          3.44,
          3.45,
          3.46,
          3.4699999999999998,
          3.48,
          3.49,
          3.5,
          3.51,
          3.52,
          3.5300000000000002,
          3.54,
          3.55,
          3.56,
          3.57,
          3.58,
          3.59,
          3.6,
          3.61,
          3.62,
          3.63,
          3.64,
          3.65,
          3.66,
          3.67,
          3.68,
          3.69,
          3.7,
          3.71,
          3.7199999999999998,
          3.73,
          3.74,
          3.75,
          3.76,
          3.77,
          3.7800000000000002,
          3.79,
          3.8,
          3.81,
          3.82,
          3.83,
          3.84,
          3.85,
          3.86,
          3.87,
          3.88,
          3.89,
          3.9,
          3.91,
          3.92,
          3.93,
          3.94,
          3.95,
          3.96,
          3.9699999999999998,
          3.98,
          3.99,
          4,
          4.01,
          4.02,
          4.03,
          4.04,
          4.05,
          4.0600000000000005,
          4.07,
          4.08,
          4.09,
          4.1,
          4.11,
          4.12,
          4.13,
          4.14,
          4.15,
          4.16,
          4.17,
          4.18,
          4.1899999999999995,
          4.2,
          4.21,
          4.22,
          4.23,
          4.24,
          4.25,
          4.26,
          4.27,
          4.28,
          4.29,
          4.3,
          4.3100000000000005,
          4.32,
          4.33,
          4.34,
          4.35,
          4.36,
          4.37,
          4.38,
          4.39,
          4.4,
          4.41,
          4.42,
          4.43,
          4.4399999999999995,
          4.45,
          4.46,
          4.47,
          4.48,
          4.49,
          4.5,
          4.51,
          4.52,
          4.53,
          4.54,
          4.55,
          4.5600000000000005,
          4.57,
          4.58,
          4.59,
          4.6,
          4.61,
          4.62,
          4.63,
          4.64,
          4.65,
          4.66,
          4.67,
          4.68,
          4.6899999999999995,
          4.7,
          4.71,
          4.72,
          4.73,
          4.74,
          4.75,
          4.76,
          4.77,
          4.78,
          4.79,
          4.8,
          4.8100000000000005,
          4.82,
          4.83,
          4.84,
          4.85,
          4.86,
          4.87,
          4.88,
          4.89,
          4.9,
          4.91,
          4.92,
          4.93,
          4.9399999999999995,
          4.95,
          4.96,
          4.97,
          4.98,
          4.99,
          5,
          5.01,
          5.02,
          5.029999999999999,
          5.04,
          5.05,
          5.0600000000000005,
          5.07,
          5.08,
          5.09,
          5.1,
          5.109999999999999,
          5.12,
          5.13,
          5.140000000000001,
          5.15,
          5.16,
          5.17,
          5.18,
          5.1899999999999995,
          5.2,
          5.21,
          5.220000000000001,
          5.23,
          5.24,
          5.25,
          5.26,
          5.27,
          5.279999999999999,
          5.29,
          5.3,
          5.3100000000000005,
          5.32,
          5.33,
          5.34,
          5.35,
          5.359999999999999,
          5.37,
          5.38,
          5.390000000000001,
          5.4,
          5.41,
          5.42,
          5.43,
          5.4399999999999995,
          5.45,
          5.46,
          5.470000000000001,
          5.48,
          5.49,
          5.5,
          5.51,
          5.52,
          5.529999999999999,
          5.54,
          5.55,
          5.5600000000000005,
          5.57,
          5.58,
          5.59,
          5.6,
          5.609999999999999,
          5.62,
          5.63,
          5.640000000000001,
          5.65,
          5.66,
          5.67,
          5.68,
          5.6899999999999995,
          5.7,
          5.71,
          5.720000000000001,
          5.73,
          5.74,
          5.75,
          5.76,
          5.77,
          5.779999999999999,
          5.79,
          5.8,
          5.8100000000000005,
          5.82,
          5.83,
          5.84,
          5.85,
          5.859999999999999,
          5.87,
          5.88,
          5.890000000000001,
          5.9,
          5.91,
          5.92,
          5.93,
          5.9399999999999995,
          5.95,
          5.96,
          5.970000000000001,
          5.98,
          5.99,
          6,
          6.01,
          6.02,
          6.029999999999999,
          6.04,
          6.05,
          6.0600000000000005,
          6.07,
          6.08,
          6.09,
          6.1,
          6.109999999999999,
          6.12,
          6.13,
          6.140000000000001,
          6.15,
          6.16,
          6.17,
          6.18,
          6.1899999999999995,
          6.2,
          6.21,
          6.220000000000001,
          6.23,
          6.24,
          6.25,
          6.26,
          6.27,
          6.279999999999999,
          6.29,
          6.3,
          6.3100000000000005,
          6.32,
          6.33,
          6.34,
          6.35,
          6.359999999999999,
          6.37,
          6.38,
          6.390000000000001,
          6.4,
          6.41,
          6.42,
          6.43,
          6.4399999999999995,
          6.45,
          6.46,
          6.470000000000001,
          6.48,
          6.49,
          6.5,
          6.51,
          6.52,
          6.529999999999999,
          6.54,
          6.55,
          6.5600000000000005,
          6.57,
          6.58,
          6.59,
          6.6,
          6.609999999999999,
          6.62,
          6.63,
          6.640000000000001,
          6.65,
          6.66,
          6.67,
          6.68,
          6.6899999999999995,
          6.7,
          6.71,
          6.720000000000001,
          6.73,
          6.74,
          6.75,
          6.76,
          6.77,
          6.779999999999999,
          6.79,
          6.8,
          6.8100000000000005,
          6.82,
          6.83,
          6.84,
          6.85,
          6.859999999999999,
          6.87,
          6.88,
          6.890000000000001,
          6.9,
          6.91,
          6.92,
          6.93,
          6.9399999999999995,
          6.95,
          6.96,
          6.970000000000001,
          6.98,
          6.99,
          7,
          7.01,
          7.02,
          7.03,
          7.04,
          7.05,
          7.06,
          7.07,
          7.08,
          7.09,
          7.1,
          7.11,
          7.12,
          7.13,
          7.14,
          7.15,
          7.16,
          7.17,
          7.18,
          7.19,
          7.2,
          7.21,
          7.22,
          7.23,
          7.24,
          7.25,
          7.26,
          7.27,
          7.28,
          7.29,
          7.3,
          7.31,
          7.32,
          7.33,
          7.34,
          7.35,
          7.36,
          7.37,
          7.38,
          7.39,
          7.4,
          7.41,
          7.42,
          7.43,
          7.44,
          7.45,
          7.46,
          7.47,
          7.48,
          7.49,
          7.5,
          7.51,
          7.52,
          7.53,
          7.54,
          7.55,
          7.56,
          7.57,
          7.58,
          7.59,
          7.6,
          7.61,
          7.62,
          7.63,
          7.64,
          7.65,
          7.66,
          7.67,
          7.68,
          7.69,
          7.7,
          7.71,
          7.72,
          7.73,
          7.74,
          7.75,
          7.76,
          7.77,
          7.78,
          7.79,
          7.8,
          7.81,
          7.82,
          7.83,
          7.84,
          7.85,
          7.86,
          7.87,
          7.88,
          7.89,
          7.9,
          7.91,
          7.92,
          7.93,
          7.94,
          7.95,
          7.96,
          7.97,
          7.98,
          7.99
         ],
         "xaxis": "x",
         "y": [
          0.326727327577538,
          0.3280295246241342,
          0.32926274072139544,
          0.33042741478058385,
          0.331524069499117,
          0.3325533095299513,
          0.3335158194601257,
          0.33441236160351595,
          0.3352437736134734,
          0.3360109659215763,
          0.3367149190092565,
          0.3373566805196226,
          0.3379373622172806,
          0.3384581368044625,
          0.3389202346022323,
          0.3393249401059609,
          0.3396735884246907,
          0.33996756161437736,
          0.34020828491534066,
          0.34039722290459634,
          0.34053587557398024,
          0.34062577434527,
          0.34066847803368977,
          0.34066556877136367,
          0.34061864790243424,
          0.3405293318616405,
          0.34039924804823035,
          0.34023003070708324,
          0.34002331682892273,
          0.3397807420814116,
          0.3395039367828663,
          0.33919452193014216,
          0.3388541052921134,
          0.338484277579922,
          0.3380866087049406,
          0.33766264413510766,
          0.33721390135995033,
          0.3367418664742766,
          0.3362479908901173,
          0.3357336881860711,
          0.335200331102759,
          0.3346492486926084,
          0.33408172363167693,
          0.33349898970069425,
          0.33290222944192904,
          0.33229257199792417,
          0.331671091137521,
          0.33103880347399733,
          0.3303966668794888,
          0.32974557909923274,
          0.32908637656850537,
          0.3284198334344563,
          0.32774666078438186,
          0.3270675060812903,
          0.3263829528069439,
          0.32569352031187915,
          0.3249996638712396,
          0.3243017749445842,
          0.32360018163718374,
          0.322895149359659,
          0.32218688168218423,
          0.3214755213788676,
          0.32076115165730784,
          0.3200437975677467,
          0.31932342758567733,
          0.3185999553612392,
          0.31787324162818886,
          0.31714309626480114,
          0.3164092804985416,
          0.31567150924597664,
          0.3149294535789489,
          0.31418274330772883,
          0.3134309696714839,
          0.31267368812614715,
          0.3119104212194961,
          0.3111406615430314,
          0.31036387475008587,
          0.30957950262941425,
          0.3087869662234498,
          0.3079856689803106,
          0.3071749999286506,
          0.3063543368644129,
          0.3055230495386439,
          0.30468050283556747,
          0.3038260599302759,
          0.3029590854155398,
          0.3020789483874355,
          0.3011850254797225,
          0.3002767038371791,
          0.29935338401837663,
          0.29841448281873695,
          0.2974594360050384,
          0.29648770095296145,
          0.2954987591796535,
          0.2944921187637339,
          0.2934673166456455,
          0.2924239208017111,
          0.29136153228578476,
          0.29027978713289837,
          0.28917835811982984,
          0.28805695637809553,
          0.28691533285540993,
          0.28575327962222874,
          0.2845706310205844,
          0.28336726465299034,
          0.28214310220976935,
          0.2808981101337829,
          0.2796323001220668,
          0.27834572946451364,
          0.2770385012202716,
          0.27571076423312674,
          0.27436271298767295,
          0.2729945873086252,
          0.2716066719061481,
          0.27019929577061513,
          0.26877283142067127,
          0.2673276940089764,
          0.2658643402904501,
          0.26438326745827545,
          0.2628850118533321,
          0.26137014755309496,
          0.25983928484642665,
          0.25829306860098616,
          0.2567321765303024,
          0.25515731736782826,
          0.2535692289555281,
          0.2519686762547686,
          0.25035644928746936,
          0.24873336101561494,
          0.2471002451673424,
          0.24545795401791862,
          0.2438073561339658,
          0.24214933408933148,
          0.24048478216096464,
          0.2388146040131536,
          0.23713971037839407,
          0.23546101674305084,
          0.23377944104586826,
          0.23209590139721262,
          0.23041131382674837,
          0.22872659006704424,
          0.2270426353803665,
          0.2253603464356586,
          0.22368060924241404,
          0.22200429714787076,
          0.2203322689035898,
          0.21866536680718437,
          0.217004414924564,
          0.21535021739771065,
          0.21370355684260492,
          0.2120651928415069,
          0.21043586053340743,
          0.2088162693060228,
          0.20720710159228306,
          0.2056090117738408,
          0.2040226251936693,
          0.20244853727940057,
          0.2008873127785941,
          0.1993394851067073,
          0.1978055558080814,
          0.19628599412985123,
          0.19478123670823755,
          0.19329168736628552,
          0.1918177170216878,
          0.19035966370294896,
          0.18891783267175802,
          0.18749249664906176,
          0.1860838961419804,
          0.18469223986837363,
          0.18331770527553057,
          0.1819604391491593,
          0.18062055830857143,
          0.1792981503836893,
          0.177993274669249,
          0.17670596305137234,
          0.17543622100146053,
          0.17418402863219437,
          0.17294934181026897,
          0.17173209332036146,
          0.17053219407472056,
          0.16934953436268357,
          0.16818398513436297,
          0.16703539931271946,
          0.16590361312820612,
          0.16478844747019714,
          0.16368970924943832,
          0.16260719276580554,
          0.16154068107575584,
          0.16048994735392302,
          0.15945475624346642,
          0.15843486518988278,
          0.15743002575318,
          0.15643998489347005,
          0.15546448622524267,
          0.15450327123578275,
          0.1535560804634294,
          0.15262265463160724,
          0.15170273573481793,
          0.15079606807304424,
          0.1499023992312879,
          0.14902148100126072,
          0.1481530702425326,
          0.1472969296807327,
          0.14645282864073061,
          0.14562054371300207,
          0.1447998593517275,
          0.1439905684034628,
          0.14319247256554996,
          0.142405382773749,
          0.14162911951887808,
          0.14086351309256306,
          0.14010840376250522,
          0.13936364187796454,
          0.1386290879064587,
          0.1379046124029565,
          0.1371900959131185,
          0.13648542881240738,
          0.13579051108313928,
          0.13510525203179596,
          0.13442956994913827,
          0.133763391715887,
          0.13310665235693342,
          0.13245929454722882,
          0.13182126807267586,
          0.1311925292495008,
          0.1305730403057205,
          0.12996276872844684,
          0.12936168658086705,
          0.12876976979283827,
          0.1281869974290948,
          0.12761335093912327,
          0.12704881339279395,
          0.12649336870586123,
          0.12594700085943142,
          0.1254096931174937,
          0.12488142724656752,
          0.12436218274146787,
          0.12385193606112735,
          0.12335065987832695,
          0.12285832234708322,
          0.12237488639134257,
          0.12190030901848334,
          0.12143454066100018,
          0.12097752454958692,
          0.12052919612066368,
          0.12008948246122002,
          0.11965830179365736,
          0.11923556300311339,
          0.11882116520954489,
          0.11841499738663386,
          0.11801693802935824,
          0.11762685487183754,
          0.11724460465684025,
          0.11687003295809512,
          0.116502974056316,
          0.11614325086960241,
          0.1157906749386433,
          0.11544504646690638,
          0.11510615441575148,
          0.11477377665417403,
          0.11444768016264746,
          0.11412762129029562,
          0.11381334606440983,
          0.11350459055109562,
          0.11320108126562278,
          0.11290253563084594,
          0.11260866248186377,
          0.11231916261489279,
          0.11203372937815417,
          0.11175204930239858,
          0.11147380276854052,
          0.11119866470971725,
          0.11092630534496001,
          0.11065639094153601,
          0.11038858460291204,
          0.1101225470791916,
          0.10985793759679524,
          0.10959441470407881,
          0.10933163712953642,
          0.10906926464918011,
          0.10880695895967642,
          0.10854438455378536,
          0.10828120959466749,
          0.10801710678562293,
          0.10775175423186113,
          0.1074848362909412,
          0.10721604440857233,
          0.10694507793653626,
          0.1066716449295709,
          0.10639546291814611,
          0.10611625965416968,
          0.10583377382677019,
          0.10554775574543819,
          0.10525796798793631,
          0.10496418601053556,
          0.10466619871829363,
          0.10436380899324867,
          0.1040568341785743,
          0.10374510651692115,
          0.1034284735413467,
          0.10310679841743185,
          0.10277996023536849,
          0.10244785425100143,
          0.10211039207500838,
          0.10176750180960287,
          0.10141912813234458,
          0.10106523232684761,
          0.10070579226038298,
          0.10034080230856321,
          0.09997027322751086,
          0.09959423197409356,
          0.09921272147501951,
          0.09882580034575983,
          0.0984335425604603,
          0.09803603707417939,
          0.09763338739896271,
          0.0972257111354282,
          0.09681313946169832,
          0.09639581658166278,
          0.09597389913469627,
          0.09554755556909295,
          0.09511696548159448,
          0.09468231892551221,
          0.09424381569003419,
          0.09380166455341296,
          0.09335608251280153,
          0.09290729399357811,
          0.09245553004106286,
          0.09200102749757004,
          0.09154402816778191,
          0.09108477797544992,
          0.09062352611444313,
          0.09016052419716561,
          0.08969602540335331,
          0.08923028363223665,
          0.08876355266102892,
          0.08829608531264733,
          0.08782813263552602,
          0.08735994309831378,
          0.08689176180216845,
          0.08642382971328777,
          0.08595638291820408,
          0.08548965190428638,
          0.08502386086776649,
          0.08455922705149654,
          0.0840959601145124,
          0.08363426153534977,
          0.08317432405091034,
          0.08271633113254585,
          0.08226045650085778,
          0.08180686368057298,
          0.08135570559668591,
          0.08090712421290235,
          0.08046125021325012,
          0.08001820272756253,
          0.0795780891013651,
          0.07914100471053719,
          0.07870703282094399,
          0.0782762444930731,
          0.07784869853154242,
          0.07742444147918079,
          0.07700350765522657,
          0.07658591923702424,
          0.07617168638445455,
          0.07576080740617432,
          0.07535326896660427,
          0.07494904633246237,
          0.07454810365750279,
          0.07415039430399979,
          0.07375586119938952,
          0.07336443722637258,
          0.0729760456446746,
          0.07259060054256106,
          0.07220800731611612,
          0.0718281631742127,
          0.07145095766702612,
          0.07107627323588235,
          0.07070398578217592,
          0.07033396525304451,
          0.06996607624145348,
          0.06960017859831479,
          0.06923612805424342,
          0.06887377684855107,
          0.06851297436307069,
          0.06815356775841715,
          0.06779540261030885,
          0.06743832354359754,
          0.06708217486169052,
          0.06672680116909578,
          0.0663720479848653,
          0.06601776234477905,
          0.06566379339016994,
          0.0653099929413738,
          0.06495621605386014,
          0.06460232155519054,
          0.06424817256104619,
          0.06389363696865867,
          0.06353858792608869,
          0.06318290427590076,
          0.06282647097189577,
          0.06246917946768009,
          0.062110928075969365,
          0.06175162229764539,
          0.06139117511971155,
          0.06102950728141721,
          0.06066654750794814,
          0.06030223271120801,
          0.05993650815734843,
          0.059569327600825873,
          0.05920065338489844,
          0.058830456508596585,
          0.058458716660328376,
          0.058085422218404834,
          0.05771057021888273,
          0.05733416629125065,
          0.0569562245625854,
          0.05657676753092645,
          0.05619582590871192,
          0.0558134384372292,
          0.05542965167312226,
          0.05504451974809256,
          0.05465810410301742,
          0.054270473197783616,
          0.05388170219821553,
          0.053491872641538166,
          0.05310107208188302,
          0.0527093937173943,
          0.05231693600054611,
          0.05192380223332044,
          0.051530100148932,
          0.05113594148181407,
          0.050741441527601384,
          0.05034671869486032,
          0.0499518940503259,
          0.049557090859404164,
          0.04916243412369625,
          0.048768050117287,
          0.04837406592352284,
          0.04798060897397839,
          0.04758780659128514,
          0.047195785537453794,
          0.046804671569284584,
          0.0464145890024089,
          0.04602566028545854,
          0.04563800558579486,
          0.04525174238817588,
          0.044866985107667366,
          0.044483844718038006,
          0.04410242839680363,
          0.043722839188008705,
          0.04334517568375432,
          0.04296953172539892,
          0.04259599612527387,
          0.0422246524096693,
          0.041855578583757186,
          0.04148884691903064,
          0.04112452376374632,
          0.0407626693767688,
          0.04040333778512278,
          0.04004657666546924,
          0.039692427249632976,
          0.03934092425421769,
          0.03899209583425859,
          0.038645963560775216,
          0.038302542422002976,
          0.03796184084799983,
          0.03762386075824313,
          0.0372885976317557,
          0.03695604059922498,
          0.0366261725565077,
          0.03629897029884361,
          0.03597440467503991,
          0.035652440760823335,
          0.03533303805050335,
          0.03501615066603506,
          0.03470172758252254,
          0.0343897128691581,
          0.034080045944554514,
          0.03377266184538955,
          0.03346749150725282,
          0.03316446205655715,
          0.032863497112356414,
          0.03256451709689173,
          0.03226743955367835,
          0.031972179471934224,
          0.03167864961614983,
          0.031386760859598115,
          0.03109642252058812,
          0.030807542700276677,
          0.030520028620864028,
          0.030233786963017366,
          0.029948724201387975,
          0.029664746937111058,
          0.029381762226207687,
          0.029099677902837934,
          0.028818402896392356,
          0.028537847541443048,
          0.028257923879619486,
          0.027978545952517482,
          0.027699630084793647
         ],
         "yaxis": "y"
        },
        {
         "legendgroup": "Моложе 35",
         "marker": {
          "color": "red"
         },
         "mode": "lines",
         "name": "Моложе 35",
         "showlegend": true,
         "type": "scatter",
         "x": [
          3,
          3.01,
          3.02,
          3.03,
          3.04,
          3.05,
          3.06,
          3.07,
          3.08,
          3.09,
          3.1,
          3.11,
          3.12,
          3.13,
          3.14,
          3.15,
          3.16,
          3.17,
          3.18,
          3.19,
          3.2,
          3.21,
          3.22,
          3.23,
          3.24,
          3.25,
          3.26,
          3.27,
          3.2800000000000002,
          3.29,
          3.3,
          3.31,
          3.32,
          3.33,
          3.34,
          3.35,
          3.36,
          3.37,
          3.38,
          3.39,
          3.4,
          3.41,
          3.42,
          3.43,
          3.44,
          3.45,
          3.46,
          3.4699999999999998,
          3.48,
          3.49,
          3.5,
          3.51,
          3.52,
          3.5300000000000002,
          3.54,
          3.55,
          3.56,
          3.57,
          3.58,
          3.59,
          3.6,
          3.61,
          3.62,
          3.63,
          3.64,
          3.65,
          3.66,
          3.67,
          3.68,
          3.69,
          3.7,
          3.71,
          3.7199999999999998,
          3.73,
          3.74,
          3.75,
          3.76,
          3.77,
          3.7800000000000002,
          3.79,
          3.8,
          3.81,
          3.82,
          3.83,
          3.84,
          3.85,
          3.86,
          3.87,
          3.88,
          3.89,
          3.9,
          3.91,
          3.92,
          3.93,
          3.94,
          3.95,
          3.96,
          3.9699999999999998,
          3.98,
          3.99,
          4,
          4.01,
          4.02,
          4.03,
          4.04,
          4.05,
          4.0600000000000005,
          4.07,
          4.08,
          4.09,
          4.1,
          4.11,
          4.12,
          4.13,
          4.14,
          4.15,
          4.16,
          4.17,
          4.18,
          4.1899999999999995,
          4.2,
          4.21,
          4.22,
          4.23,
          4.24,
          4.25,
          4.26,
          4.27,
          4.28,
          4.29,
          4.3,
          4.3100000000000005,
          4.32,
          4.33,
          4.34,
          4.35,
          4.36,
          4.37,
          4.38,
          4.39,
          4.4,
          4.41,
          4.42,
          4.43,
          4.4399999999999995,
          4.45,
          4.46,
          4.47,
          4.48,
          4.49,
          4.5,
          4.51,
          4.52,
          4.53,
          4.54,
          4.55,
          4.5600000000000005,
          4.57,
          4.58,
          4.59,
          4.6,
          4.61,
          4.62,
          4.63,
          4.64,
          4.65,
          4.66,
          4.67,
          4.68,
          4.6899999999999995,
          4.7,
          4.71,
          4.72,
          4.73,
          4.74,
          4.75,
          4.76,
          4.77,
          4.78,
          4.79,
          4.8,
          4.8100000000000005,
          4.82,
          4.83,
          4.84,
          4.85,
          4.86,
          4.87,
          4.88,
          4.89,
          4.9,
          4.91,
          4.92,
          4.93,
          4.9399999999999995,
          4.95,
          4.96,
          4.97,
          4.98,
          4.99,
          5,
          5.01,
          5.02,
          5.029999999999999,
          5.04,
          5.05,
          5.0600000000000005,
          5.07,
          5.08,
          5.09,
          5.1,
          5.109999999999999,
          5.12,
          5.13,
          5.140000000000001,
          5.15,
          5.16,
          5.17,
          5.18,
          5.1899999999999995,
          5.2,
          5.21,
          5.220000000000001,
          5.23,
          5.24,
          5.25,
          5.26,
          5.27,
          5.279999999999999,
          5.29,
          5.3,
          5.3100000000000005,
          5.32,
          5.33,
          5.34,
          5.35,
          5.359999999999999,
          5.37,
          5.38,
          5.390000000000001,
          5.4,
          5.41,
          5.42,
          5.43,
          5.4399999999999995,
          5.45,
          5.46,
          5.470000000000001,
          5.48,
          5.49,
          5.5,
          5.51,
          5.52,
          5.529999999999999,
          5.54,
          5.55,
          5.5600000000000005,
          5.57,
          5.58,
          5.59,
          5.6,
          5.609999999999999,
          5.62,
          5.63,
          5.640000000000001,
          5.65,
          5.66,
          5.67,
          5.68,
          5.6899999999999995,
          5.7,
          5.71,
          5.720000000000001,
          5.73,
          5.74,
          5.75,
          5.76,
          5.77,
          5.779999999999999,
          5.79,
          5.8,
          5.8100000000000005,
          5.82,
          5.83,
          5.84,
          5.85,
          5.859999999999999,
          5.87,
          5.88,
          5.890000000000001,
          5.9,
          5.91,
          5.92,
          5.93,
          5.9399999999999995,
          5.95,
          5.96,
          5.970000000000001,
          5.98,
          5.99,
          6,
          6.01,
          6.02,
          6.029999999999999,
          6.04,
          6.05,
          6.0600000000000005,
          6.07,
          6.08,
          6.09,
          6.1,
          6.109999999999999,
          6.12,
          6.13,
          6.140000000000001,
          6.15,
          6.16,
          6.17,
          6.18,
          6.1899999999999995,
          6.2,
          6.21,
          6.220000000000001,
          6.23,
          6.24,
          6.25,
          6.26,
          6.27,
          6.279999999999999,
          6.29,
          6.3,
          6.3100000000000005,
          6.32,
          6.33,
          6.34,
          6.35,
          6.359999999999999,
          6.37,
          6.38,
          6.390000000000001,
          6.4,
          6.41,
          6.42,
          6.43,
          6.4399999999999995,
          6.45,
          6.46,
          6.470000000000001,
          6.48,
          6.49,
          6.5,
          6.51,
          6.52,
          6.529999999999999,
          6.54,
          6.55,
          6.5600000000000005,
          6.57,
          6.58,
          6.59,
          6.6,
          6.609999999999999,
          6.62,
          6.63,
          6.640000000000001,
          6.65,
          6.66,
          6.67,
          6.68,
          6.6899999999999995,
          6.7,
          6.71,
          6.720000000000001,
          6.73,
          6.74,
          6.75,
          6.76,
          6.77,
          6.779999999999999,
          6.79,
          6.8,
          6.8100000000000005,
          6.82,
          6.83,
          6.84,
          6.85,
          6.859999999999999,
          6.87,
          6.88,
          6.890000000000001,
          6.9,
          6.91,
          6.92,
          6.93,
          6.9399999999999995,
          6.95,
          6.96,
          6.970000000000001,
          6.98,
          6.99,
          7,
          7.01,
          7.02,
          7.03,
          7.04,
          7.05,
          7.06,
          7.07,
          7.08,
          7.09,
          7.1,
          7.11,
          7.12,
          7.13,
          7.14,
          7.15,
          7.16,
          7.17,
          7.18,
          7.19,
          7.2,
          7.21,
          7.22,
          7.23,
          7.24,
          7.25,
          7.26,
          7.27,
          7.28,
          7.29,
          7.3,
          7.31,
          7.32,
          7.33,
          7.34,
          7.35,
          7.36,
          7.37,
          7.38,
          7.39,
          7.4,
          7.41,
          7.42,
          7.43,
          7.44,
          7.45,
          7.46,
          7.47,
          7.48,
          7.49,
          7.5,
          7.51,
          7.52,
          7.53,
          7.54,
          7.55,
          7.56,
          7.57,
          7.58,
          7.59,
          7.6,
          7.61,
          7.62,
          7.63,
          7.64,
          7.65,
          7.66,
          7.67,
          7.68,
          7.69,
          7.7,
          7.71,
          7.72,
          7.73,
          7.74,
          7.75,
          7.76,
          7.77,
          7.78,
          7.79,
          7.8,
          7.81,
          7.82,
          7.83,
          7.84,
          7.85,
          7.86,
          7.87,
          7.88,
          7.89,
          7.9,
          7.91,
          7.92,
          7.93,
          7.94,
          7.95,
          7.96,
          7.97,
          7.98,
          7.99
         ],
         "xaxis": "x",
         "y": [
          0.23819977239843415,
          0.23985146225299256,
          0.24148989682681027,
          0.24311481366855275,
          0.24472595376164843,
          0.24632306146481386,
          0.24790588444904182,
          0.24947417363137914,
          0.25102768310582785,
          0.25256617007171334,
          0.25408939475986686,
          0.25559712035697346,
          0.2570891129284505,
          0.25856514134021025,
          0.2600249771796772,
          0.26146839467642236,
          0.2628951706227869,
          0.26430508429485333,
          0.26569791737414167,
          0.26707345387038084,
          0.2684314800457299,
          0.2697717843407941,
          0.2710941573027942,
          0.27239839151623385,
          0.27368428153639984,
          0.2749516238260335,
          0.2762002166954899,
          0.2774298602466991,
          0.27864035632123435,
          0.2798315084527756,
          0.2810031218242515,
          0.28215500322991804,
          0.28328696104263895,
          0.284398805186595,
          0.2854903471156511,
          0.28656139979758805,
          0.28761177770439084,
          0.28864129680876577,
          0.28964977458704677,
          0.29063703002862695,
          0.29160288365203946,
          0.2925471575277869,
          0.29346967530800405,
          0.29437026226301755,
          0.29524874532484635,
          0.29610495313766644,
          0.2969387161152469,
          0.2977498665053364,
          0.2985382384609705,
          0.2993036681186385,
          0.3000459936832368,
          0.3007650555197111,
          0.3014606962512734,
          0.3021327608640565,
          0.3027810968180527,
          0.3034055541641629,
          0.3040059856671644,
          0.3045822469343836,
          0.3051341965498535,
          0.3056616962137004,
          0.30616461088650676,
          0.3066428089383678,
          0.3070961623023493,
          0.3075245466320399,
          0.3079278414628732,
          0.3083059303768909,
          0.30865870117058997,
          0.3089860460255046,
          0.30928786168114636,
          0.30956404960992756,
          0.3098145161936772,
          0.31003917290135347,
          0.3102379364675523,
          0.3104107290713987,
          0.3105574785154112,
          0.31067811840391873,
          0.31077258832061166,
          0.3108408340048012,
          0.3108828075259674,
          0.3108984674561699,
          0.31088777903990117,
          0.3108507143609626,
          0.31078725250594663,
          0.310697379723914,
          0.31058108958185915,
          0.3104383831155647,
          0.3102692689754537,
          0.3100737635670503,
          0.3098518911856832,
          0.3096036841450571,
          0.3093291828993483,
          0.30902843615847725,
          0.30870150099622934,
          0.30834844295091574,
          0.3079693361182638,
          0.30756426323626207,
          0.30713331576168296,
          0.30667659393803415,
          0.3061942068547015,
          0.3056862724970666,
          0.3051529177873966,
          0.3045942786163292,
          0.30401049986478457,
          0.30340173541616877,
          0.302768148158739,
          0.30210990997803205,
          0.30142720173927157,
          0.3007202132596923,
          0.2999891432707393,
          0.2992341993701227,
          0.298455597963724,
          0.2976535641973795,
          0.29682833187857643,
          0.2959801433881269,
          0.29510924958189805,
          0.29421590968270284,
          0.2933003911624699,
          0.2923629696148343,
          0.29140392861830905,
          0.290423559590214,
          0.28942216163155937,
          0.28840004136309805,
          0.28735751275277566,
          0.28629489693482885,
          0.28521252202079095,
          0.2841107229026859,
          0.2829898410487049,
          0.28185022429166673,
          0.28069222661058885,
          0.27951620790569504,
          0.2783225337672051,
          0.2771115752382615,
          0.2758837085723568,
          0.274639314985632,
          0.2733787804044285,
          0.272102495208483,
          0.27081085397015403,
          0.26950425519008786,
          0.26818310102971743,
          0.26684779704101225,
          0.26549875189387945,
          0.26413637710163573,
          0.2627610867449552,
          0.2613732971947127,
          0.2599734268341265,
          0.2585618957806145,
          0.2571391256077689,
          0.25570553906785054,
          0.2542615598152026,
          0.25280761213097674,
          0.2513441206495571,
          0.24987151008706135,
          0.24839020497229525,
          0.24690062938051607,
          0.24540320667037008,
          0.24389835922433833,
          0.2423865081930346,
          0.24086807324367135,
          0.23934347231301006,
          0.23781312136509497,
          0.23627743415405658,
          0.23473682199225976,
          0.23319169352405708,
          0.23164245450539267,
          0.23008950758949254,
          0.22853325211885717,
          0.22697408392375798,
          0.2254123951274315,
          0.22384857395813684,
          0.22228300456824113,
          0.22071606686047102,
          0.21914813632145747,
          0.217579583862687,
          0.2160107756689502,
          0.21444207305437485,
          0.2128738323260999,
          0.21130640465564607,
          0.20974013595801155,
          0.2081753667785179,
          0.20661243218740316,
          0.20505166168215677,
          0.20349337909757034,
          0.20193790252346483,
          0.20038554423004004,
          0.19883661060078678,
          0.19729140207287432,
          0.19575021308493035,
          0.19421333203210558,
          0.19268104122830945,
          0.19115361687549098,
          0.18963132903982924,
          0.18811444163468707,
          0.18660321241017003,
          0.18509789294912693,
          0.1835987286694192,
          0.1821059588322761,
          0.18061981655654766,
          0.17914052883865816,
          0.1776683165780612,
          0.17620339460798742,
          0.17474597173127002,
          0.17329625076103541,
          0.17185442856603456,
          0.1704206961203933,
          0.16899523855755172,
          0.1675782352281684,
          0.1661698597617518,
          0.16477028013179493,
          0.1633796587241743,
          0.16199815240858514,
          0.16062591261277975,
          0.1592630853993779,
          0.15790981154502048,
          0.15656622662164082,
          0.15523246107962535,
          0.153908640332646,
          0.1525948848439436,
          0.15129131021384676,
          0.1499980272683187,
          0.14871514214832385,
          0.1474427563998111,
          0.1461809670641236,
          0.14492986676863642,
          0.14368954381744567,
          0.1424600822819219,
          0.1412415620909622,
          0.1400340591207707,
          0.13883764528400888,
          0.1376523886181638,
          0.13647835337298753,
          0.135315600096871,
          0.13416418572201766,
          0.1330241636482971,
          0.13189558382565914,
          0.1307784928350001,
          0.1296729339673805,
          0.12857894730149846,
          0.12749656977933355,
          0.12642583527988202,
          0.12536677469090993,
          0.12431941597866193,
          0.12328378425546781,
          0.12225990184519675,
          0.12124778834651691,
          0.12024746069392486,
          0.11925893321651487,
          0.11828221769446817,
          0.117317323413244,
          0.116364257215465,
          0.11542302355049396,
          0.11449362452170397,
          0.11357605993145231,
          0.11267032732377202,
          0.11177642202480068,
          0.11089433718097359,
          0.11002406379500922,
          0.10916559075972458,
          0.10831890488971813,
          0.10748399095096599,
          0.10666083168837856,
          0.10584940785137018,
          0.1050496982174973,
          0.10426167961422486,
          0.10348532693888246,
          0.10272061317687624,
          0.10196750941822458,
          0.10122598487248675,
          0.10049600688216032,
          0.09977754093461887,
          0.0990705506726686,
          0.09837499790380187,
          0.09769084260822684,
          0.09701804294575453,
          0.09635655526162523,
          0.09570633409135658,
          0.09506733216469668,
          0.09443950040876577,
          0.09382278795047119,
          0.09321714211827829,
          0.0926225084434217,
          0.09203883066064096,
          0.09146605070852312,
          0.09090410872953397,
          0.09035294306982224,
          0.08981249027887404,
          0.08928268510910123,
          0.08876346051543889,
          0.08825474765503258,
          0.08775647588708924,
          0.087268572772967,
          0.08679096407657766,
          0.08632357376517243,
          0.0858663240105805,
          0.08541913519096879,
          0.08498192589318836,
          0.08455461291577086,
          0.08413711127263751,
          0.08372933419757943,
          0.08333119314956676,
          0.08294259781894245,
          0.08256345613455193,
          0.0821936742718604,
          0.08183315666210503,
          0.0814818060025268,
          0.0811395232677271,
          0.08080620772218647,
          0.08048175693398607,
          0.0801660667897654,
          0.07985903151094927,
          0.07956054367127453,
          0.07927049421564325,
          0.07898877248032665,
          0.07871526621454301,
          0.07844986160342712,
          0.07819244329240863,
          0.07794289441301314,
          0.07770109661009636,
          0.07746693007052034,
          0.07724027355327642,
          0.07702100442105873,
          0.0768089986732873,
          0.07660413098057822,
          0.07640627472065636,
          0.07621530201570122,
          0.07603108377111581,
          0.07585348971570487,
          0.07568238844324625,
          0.07551764745543664,
          0.07535913320618966,
          0.0752067111472634,
          0.07506024577518938,
          0.07491960067947445,
          0.07478463859204425,
          0.07465522143789281,
          0.07453121038690327,
          0.07441246590679905,
          0.07429884781718551,
          0.07419021534463757,
          0.0740864271787872,
          0.07398734152936351,
          0.07389281618413453,
          0.07380270856769808,
          0.07371687580106846,
          0.07363517476200127,
          0.07355746214599938,
          0.07348359452793941,
          0.07341342842425769,
          0.07334682035563125,
          0.07328362691009085,
          0.07322370480649812,
          0.07316691095832009,
          0.07311310253763256,
          0.07306213703928113,
          0.07301387234513068,
          0.07296816678832958,
          0.07292487921751738,
          0.07288386906090165,
          0.07284499639013053,
          0.07280812198388642,
          0.0727731073911258,
          0.07273981499389111,
          0.07270810806961839,
          0.07267785085286738,
          0.07264890859639819,
          0.07262114763152058,
          0.07259443542764231,
          0.07256864065094312,
          0.07254363322210167,
          0.07251928437300466,
          0.0724954667023669,
          0.07247205423019311,
          0.07244892245101475,
          0.07242594838583315,
          0.07240301063270685,
          0.07237998941591746,
          0.07235676663365502,
          0.0723332259041622,
          0.07230925261028136,
          0.072284733942349,
          0.07225955893938599,
          0.07223361852853342,
          0.07220680556268695,
          0.07217901485628579,
          0.07215014321921434,
          0.07212008948877827,
          0.07208875455972004,
          0.0720560414122406,
          0.0720218551379997,
          0.0719861029640682,
          0.07194869427481058,
          0.07190954063167908,
          0.07186855579090398,
          0.07182565571906896,
          0.07178075860656291,
          0.07173378487890521,
          0.07168465720594205,
          0.07163330050891936,
          0.07157964196543715,
          0.07152361101229744,
          0.07146513934625946,
          0.0714041609227206,
          0.07134061195234515,
          0.0712744308956658,
          0.07120555845568781,
          0.07113393756852804,
          0.07105951339212574,
          0.07098223329306418,
          0.07090204683154692,
          0.07081890574457486,
          0.07073276392737367,
          0.0706435774131247,
          0.07055130435105494,
          0.07045590498294475,
          0.07035734161811483,
          0.07025557860695654,
          0.07015058231307197,
          0.07004232108409329,
          0.0699307652212514,
          0.06981588694776823,
          0.06969766037614725,
          0.06957606147443855,
          0.06945106803155769,
          0.06932265962173718,
          0.06919081756819223,
          0.06905552490608162,
          0.06891676634484754,
          0.068774528230017,
          0.06862879850454849,
          0.068479566669808,
          0.06832682374625922,
          0.06817056223394984,
          0.06801077607287973,
          0.06784746060333255,
          0.0676806125262531,
          0.0675102298637526,
          0.06733631191982098,
          0.06715885924132602,
          0.06697787357937622,
          0.06679335785112313,
          0.06660531610207732,
          0.06641375346900952,
          0.06621867614350711,
          0.06602009133625267,
          0.06581800724208955,
          0.06561243300593742,
          0.06540337868961583,
          0.06519085523963365,
          0.06497487445599637,
          0.06475544896208278,
          0.06453259217563698,
          0.06430631828091966,
          0.06407664220205857,
          0.06384357957763476,
          0.06360714673653697,
          0.063367360675114,
          0.06312423903564912,
          0.06287780008617935,
          0.06262806270167635,
          0.06237504634660262,
          0.06211877105885299,
          0.06185925743508741,
          0.0615965266174566,
          0.061330600281718876,
          0.06106150062674194,
          0.060789250365380215,
          0.06051387271671439,
          0.060235391399635255,
          0.05995383062775114,
          0.05966921510559479,
          0.05938157002610065,
          0.05909092106932157,
          0.058797294402349855,
          0.058500716680403776,
          0.05820121504903959,
          0.057898817147442536,
          0.05759355111275169,
          0.05728544558536704,
          0.0569745297151868,
          0.05666083316871971,
          0.056344386137014896,
          0.05602521934434916,
          0.055703364057611456,
          0.055378852096319056,
          0.055051715843202724,
          0.0547219882552923,
          0.05438970287543634,
          0.054054893844186054,
          0.05371759591197434,
          0.053377844451518774,
          0.053035675470378026,
          0.05269112562358958,
          0.05234423222631839,
          0.05199503326644293,
          0.05164356741700946,
          0.05128987404848188,
          0.050933993240717575,
          0.050575965794599165,
          0.050215833243254133,
          0.04985363786279368,
          0.049489422682505765
         ],
         "yaxis": "y"
        },
        {
         "legendgroup": "Старше 35",
         "marker": {
          "color": "blue",
          "symbol": "line-ns-open"
         },
         "mode": "markers",
         "name": "Старше 35",
         "showlegend": false,
         "type": "scatter",
         "x": [
          5,
          4,
          5,
          4,
          3,
          4,
          3,
          5,
          3,
          3,
          3,
          3,
          3,
          3,
          5,
          3,
          4,
          4,
          7,
          7,
          3,
          3,
          5,
          4,
          4,
          3,
          4,
          4,
          6,
          6,
          4,
          4,
          3,
          3,
          3,
          5,
          3,
          4,
          3,
          4,
          3,
          5,
          3,
          6,
          4,
          4,
          4,
          7,
          3,
          3,
          4,
          3,
          6,
          4,
          7,
          3,
          4,
          3,
          3,
          3,
          3,
          8,
          8,
          6,
          5,
          3,
          4,
          4,
          5,
          5,
          6,
          4,
          6,
          4,
          6,
          5,
          5,
          4,
          6,
          8,
          6,
          3,
          3,
          3,
          4,
          6,
          7,
          5,
          3,
          3,
          7,
          4,
          4,
          4,
          3,
          3,
          5,
          3,
          4,
          3,
          4,
          3,
          4,
          7,
          3,
          3,
          4,
          3,
          5,
          6,
          3,
          3,
          4,
          4,
          3
         ],
         "xaxis": "x",
         "y": [
          "Старше 35",
          "Старше 35",
          "Старше 35",
          "Старше 35",
          "Старше 35",
          "Старше 35",
          "Старше 35",
          "Старше 35",
          "Старше 35",
          "Старше 35",
          "Старше 35",
          "Старше 35",
          "Старше 35",
          "Старше 35",
          "Старше 35",
          "Старше 35",
          "Старше 35",
          "Старше 35",
          "Старше 35",
          "Старше 35",
          "Старше 35",
          "Старше 35",
          "Старше 35",
          "Старше 35",
          "Старше 35",
          "Старше 35",
          "Старше 35",
          "Старше 35",
          "Старше 35",
          "Старше 35",
          "Старше 35",
          "Старше 35",
          "Старше 35",
          "Старше 35",
          "Старше 35",
          "Старше 35",
          "Старше 35",
          "Старше 35",
          "Старше 35",
          "Старше 35",
          "Старше 35",
          "Старше 35",
          "Старше 35",
          "Старше 35",
          "Старше 35",
          "Старше 35",
          "Старше 35",
          "Старше 35",
          "Старше 35",
          "Старше 35",
          "Старше 35",
          "Старше 35",
          "Старше 35",
          "Старше 35",
          "Старше 35",
          "Старше 35",
          "Старше 35",
          "Старше 35",
          "Старше 35",
          "Старше 35",
          "Старше 35",
          "Старше 35",
          "Старше 35",
          "Старше 35",
          "Старше 35",
          "Старше 35",
          "Старше 35",
          "Старше 35",
          "Старше 35",
          "Старше 35",
          "Старше 35",
          "Старше 35",
          "Старше 35",
          "Старше 35",
          "Старше 35",
          "Старше 35",
          "Старше 35",
          "Старше 35",
          "Старше 35",
          "Старше 35",
          "Старше 35",
          "Старше 35",
          "Старше 35",
          "Старше 35",
          "Старше 35",
          "Старше 35",
          "Старше 35",
          "Старше 35",
          "Старше 35",
          "Старше 35",
          "Старше 35",
          "Старше 35",
          "Старше 35",
          "Старше 35",
          "Старше 35",
          "Старше 35",
          "Старше 35",
          "Старше 35",
          "Старше 35",
          "Старше 35",
          "Старше 35",
          "Старше 35",
          "Старше 35",
          "Старше 35",
          "Старше 35",
          "Старше 35",
          "Старше 35",
          "Старше 35",
          "Старше 35",
          "Старше 35",
          "Старше 35",
          "Старше 35",
          "Старше 35",
          "Старше 35",
          "Старше 35"
         ],
         "yaxis": "y2"
        },
        {
         "legendgroup": "Моложе 35",
         "marker": {
          "color": "red",
          "symbol": "line-ns-open"
         },
         "mode": "markers",
         "name": "Моложе 35",
         "showlegend": false,
         "type": "scatter",
         "x": [
          4,
          4,
          3,
          4,
          3,
          4,
          4,
          4,
          3,
          5,
          6,
          3,
          3,
          4,
          5,
          4,
          8,
          4,
          6,
          4,
          7,
          4,
          7,
          3,
          8,
          3,
          4,
          3,
          4,
          4,
          3,
          5,
          7,
          3,
          5,
          5
         ],
         "xaxis": "x",
         "y": [
          "Моложе 35",
          "Моложе 35",
          "Моложе 35",
          "Моложе 35",
          "Моложе 35",
          "Моложе 35",
          "Моложе 35",
          "Моложе 35",
          "Моложе 35",
          "Моложе 35",
          "Моложе 35",
          "Моложе 35",
          "Моложе 35",
          "Моложе 35",
          "Моложе 35",
          "Моложе 35",
          "Моложе 35",
          "Моложе 35",
          "Моложе 35",
          "Моложе 35",
          "Моложе 35",
          "Моложе 35",
          "Моложе 35",
          "Моложе 35",
          "Моложе 35",
          "Моложе 35",
          "Моложе 35",
          "Моложе 35",
          "Моложе 35",
          "Моложе 35",
          "Моложе 35",
          "Моложе 35",
          "Моложе 35",
          "Моложе 35",
          "Моложе 35",
          "Моложе 35"
         ],
         "yaxis": "y2"
        }
       ],
       "layout": {
        "barmode": "overlay",
        "hovermode": "closest",
        "legend": {
         "traceorder": "reversed"
        },
        "template": {
         "data": {
          "bar": [
           {
            "error_x": {
             "color": "#2a3f5f"
            },
            "error_y": {
             "color": "#2a3f5f"
            },
            "marker": {
             "line": {
              "color": "#E5ECF6",
              "width": 0.5
             },
             "pattern": {
              "fillmode": "overlay",
              "size": 10,
              "solidity": 0.2
             }
            },
            "type": "bar"
           }
          ],
          "barpolar": [
           {
            "marker": {
             "line": {
              "color": "#E5ECF6",
              "width": 0.5
             },
             "pattern": {
              "fillmode": "overlay",
              "size": 10,
              "solidity": 0.2
             }
            },
            "type": "barpolar"
           }
          ],
          "carpet": [
           {
            "aaxis": {
             "endlinecolor": "#2a3f5f",
             "gridcolor": "white",
             "linecolor": "white",
             "minorgridcolor": "white",
             "startlinecolor": "#2a3f5f"
            },
            "baxis": {
             "endlinecolor": "#2a3f5f",
             "gridcolor": "white",
             "linecolor": "white",
             "minorgridcolor": "white",
             "startlinecolor": "#2a3f5f"
            },
            "type": "carpet"
           }
          ],
          "choropleth": [
           {
            "colorbar": {
             "outlinewidth": 0,
             "ticks": ""
            },
            "type": "choropleth"
           }
          ],
          "contour": [
           {
            "colorbar": {
             "outlinewidth": 0,
             "ticks": ""
            },
            "colorscale": [
             [
              0,
              "#0d0887"
             ],
             [
              0.1111111111111111,
              "#46039f"
             ],
             [
              0.2222222222222222,
              "#7201a8"
             ],
             [
              0.3333333333333333,
              "#9c179e"
             ],
             [
              0.4444444444444444,
              "#bd3786"
             ],
             [
              0.5555555555555556,
              "#d8576b"
             ],
             [
              0.6666666666666666,
              "#ed7953"
             ],
             [
              0.7777777777777778,
              "#fb9f3a"
             ],
             [
              0.8888888888888888,
              "#fdca26"
             ],
             [
              1,
              "#f0f921"
             ]
            ],
            "type": "contour"
           }
          ],
          "contourcarpet": [
           {
            "colorbar": {
             "outlinewidth": 0,
             "ticks": ""
            },
            "type": "contourcarpet"
           }
          ],
          "heatmap": [
           {
            "colorbar": {
             "outlinewidth": 0,
             "ticks": ""
            },
            "colorscale": [
             [
              0,
              "#0d0887"
             ],
             [
              0.1111111111111111,
              "#46039f"
             ],
             [
              0.2222222222222222,
              "#7201a8"
             ],
             [
              0.3333333333333333,
              "#9c179e"
             ],
             [
              0.4444444444444444,
              "#bd3786"
             ],
             [
              0.5555555555555556,
              "#d8576b"
             ],
             [
              0.6666666666666666,
              "#ed7953"
             ],
             [
              0.7777777777777778,
              "#fb9f3a"
             ],
             [
              0.8888888888888888,
              "#fdca26"
             ],
             [
              1,
              "#f0f921"
             ]
            ],
            "type": "heatmap"
           }
          ],
          "heatmapgl": [
           {
            "colorbar": {
             "outlinewidth": 0,
             "ticks": ""
            },
            "colorscale": [
             [
              0,
              "#0d0887"
             ],
             [
              0.1111111111111111,
              "#46039f"
             ],
             [
              0.2222222222222222,
              "#7201a8"
             ],
             [
              0.3333333333333333,
              "#9c179e"
             ],
             [
              0.4444444444444444,
              "#bd3786"
             ],
             [
              0.5555555555555556,
              "#d8576b"
             ],
             [
              0.6666666666666666,
              "#ed7953"
             ],
             [
              0.7777777777777778,
              "#fb9f3a"
             ],
             [
              0.8888888888888888,
              "#fdca26"
             ],
             [
              1,
              "#f0f921"
             ]
            ],
            "type": "heatmapgl"
           }
          ],
          "histogram": [
           {
            "marker": {
             "pattern": {
              "fillmode": "overlay",
              "size": 10,
              "solidity": 0.2
             }
            },
            "type": "histogram"
           }
          ],
          "histogram2d": [
           {
            "colorbar": {
             "outlinewidth": 0,
             "ticks": ""
            },
            "colorscale": [
             [
              0,
              "#0d0887"
             ],
             [
              0.1111111111111111,
              "#46039f"
             ],
             [
              0.2222222222222222,
              "#7201a8"
             ],
             [
              0.3333333333333333,
              "#9c179e"
             ],
             [
              0.4444444444444444,
              "#bd3786"
             ],
             [
              0.5555555555555556,
              "#d8576b"
             ],
             [
              0.6666666666666666,
              "#ed7953"
             ],
             [
              0.7777777777777778,
              "#fb9f3a"
             ],
             [
              0.8888888888888888,
              "#fdca26"
             ],
             [
              1,
              "#f0f921"
             ]
            ],
            "type": "histogram2d"
           }
          ],
          "histogram2dcontour": [
           {
            "colorbar": {
             "outlinewidth": 0,
             "ticks": ""
            },
            "colorscale": [
             [
              0,
              "#0d0887"
             ],
             [
              0.1111111111111111,
              "#46039f"
             ],
             [
              0.2222222222222222,
              "#7201a8"
             ],
             [
              0.3333333333333333,
              "#9c179e"
             ],
             [
              0.4444444444444444,
              "#bd3786"
             ],
             [
              0.5555555555555556,
              "#d8576b"
             ],
             [
              0.6666666666666666,
              "#ed7953"
             ],
             [
              0.7777777777777778,
              "#fb9f3a"
             ],
             [
              0.8888888888888888,
              "#fdca26"
             ],
             [
              1,
              "#f0f921"
             ]
            ],
            "type": "histogram2dcontour"
           }
          ],
          "mesh3d": [
           {
            "colorbar": {
             "outlinewidth": 0,
             "ticks": ""
            },
            "type": "mesh3d"
           }
          ],
          "parcoords": [
           {
            "line": {
             "colorbar": {
              "outlinewidth": 0,
              "ticks": ""
             }
            },
            "type": "parcoords"
           }
          ],
          "pie": [
           {
            "automargin": true,
            "type": "pie"
           }
          ],
          "scatter": [
           {
            "fillpattern": {
             "fillmode": "overlay",
             "size": 10,
             "solidity": 0.2
            },
            "type": "scatter"
           }
          ],
          "scatter3d": [
           {
            "line": {
             "colorbar": {
              "outlinewidth": 0,
              "ticks": ""
             }
            },
            "marker": {
             "colorbar": {
              "outlinewidth": 0,
              "ticks": ""
             }
            },
            "type": "scatter3d"
           }
          ],
          "scattercarpet": [
           {
            "marker": {
             "colorbar": {
              "outlinewidth": 0,
              "ticks": ""
             }
            },
            "type": "scattercarpet"
           }
          ],
          "scattergeo": [
           {
            "marker": {
             "colorbar": {
              "outlinewidth": 0,
              "ticks": ""
             }
            },
            "type": "scattergeo"
           }
          ],
          "scattergl": [
           {
            "marker": {
             "colorbar": {
              "outlinewidth": 0,
              "ticks": ""
             }
            },
            "type": "scattergl"
           }
          ],
          "scattermapbox": [
           {
            "marker": {
             "colorbar": {
              "outlinewidth": 0,
              "ticks": ""
             }
            },
            "type": "scattermapbox"
           }
          ],
          "scatterpolar": [
           {
            "marker": {
             "colorbar": {
              "outlinewidth": 0,
              "ticks": ""
             }
            },
            "type": "scatterpolar"
           }
          ],
          "scatterpolargl": [
           {
            "marker": {
             "colorbar": {
              "outlinewidth": 0,
              "ticks": ""
             }
            },
            "type": "scatterpolargl"
           }
          ],
          "scatterternary": [
           {
            "marker": {
             "colorbar": {
              "outlinewidth": 0,
              "ticks": ""
             }
            },
            "type": "scatterternary"
           }
          ],
          "surface": [
           {
            "colorbar": {
             "outlinewidth": 0,
             "ticks": ""
            },
            "colorscale": [
             [
              0,
              "#0d0887"
             ],
             [
              0.1111111111111111,
              "#46039f"
             ],
             [
              0.2222222222222222,
              "#7201a8"
             ],
             [
              0.3333333333333333,
              "#9c179e"
             ],
             [
              0.4444444444444444,
              "#bd3786"
             ],
             [
              0.5555555555555556,
              "#d8576b"
             ],
             [
              0.6666666666666666,
              "#ed7953"
             ],
             [
              0.7777777777777778,
              "#fb9f3a"
             ],
             [
              0.8888888888888888,
              "#fdca26"
             ],
             [
              1,
              "#f0f921"
             ]
            ],
            "type": "surface"
           }
          ],
          "table": [
           {
            "cells": {
             "fill": {
              "color": "#EBF0F8"
             },
             "line": {
              "color": "white"
             }
            },
            "header": {
             "fill": {
              "color": "#C8D4E3"
             },
             "line": {
              "color": "white"
             }
            },
            "type": "table"
           }
          ]
         },
         "layout": {
          "annotationdefaults": {
           "arrowcolor": "#2a3f5f",
           "arrowhead": 0,
           "arrowwidth": 1
          },
          "autotypenumbers": "strict",
          "coloraxis": {
           "colorbar": {
            "outlinewidth": 0,
            "ticks": ""
           }
          },
          "colorscale": {
           "diverging": [
            [
             0,
             "#8e0152"
            ],
            [
             0.1,
             "#c51b7d"
            ],
            [
             0.2,
             "#de77ae"
            ],
            [
             0.3,
             "#f1b6da"
            ],
            [
             0.4,
             "#fde0ef"
            ],
            [
             0.5,
             "#f7f7f7"
            ],
            [
             0.6,
             "#e6f5d0"
            ],
            [
             0.7,
             "#b8e186"
            ],
            [
             0.8,
             "#7fbc41"
            ],
            [
             0.9,
             "#4d9221"
            ],
            [
             1,
             "#276419"
            ]
           ],
           "sequential": [
            [
             0,
             "#0d0887"
            ],
            [
             0.1111111111111111,
             "#46039f"
            ],
            [
             0.2222222222222222,
             "#7201a8"
            ],
            [
             0.3333333333333333,
             "#9c179e"
            ],
            [
             0.4444444444444444,
             "#bd3786"
            ],
            [
             0.5555555555555556,
             "#d8576b"
            ],
            [
             0.6666666666666666,
             "#ed7953"
            ],
            [
             0.7777777777777778,
             "#fb9f3a"
            ],
            [
             0.8888888888888888,
             "#fdca26"
            ],
            [
             1,
             "#f0f921"
            ]
           ],
           "sequentialminus": [
            [
             0,
             "#0d0887"
            ],
            [
             0.1111111111111111,
             "#46039f"
            ],
            [
             0.2222222222222222,
             "#7201a8"
            ],
            [
             0.3333333333333333,
             "#9c179e"
            ],
            [
             0.4444444444444444,
             "#bd3786"
            ],
            [
             0.5555555555555556,
             "#d8576b"
            ],
            [
             0.6666666666666666,
             "#ed7953"
            ],
            [
             0.7777777777777778,
             "#fb9f3a"
            ],
            [
             0.8888888888888888,
             "#fdca26"
            ],
            [
             1,
             "#f0f921"
            ]
           ]
          },
          "colorway": [
           "#636efa",
           "#EF553B",
           "#00cc96",
           "#ab63fa",
           "#FFA15A",
           "#19d3f3",
           "#FF6692",
           "#B6E880",
           "#FF97FF",
           "#FECB52"
          ],
          "font": {
           "color": "#2a3f5f"
          },
          "geo": {
           "bgcolor": "white",
           "lakecolor": "white",
           "landcolor": "#E5ECF6",
           "showlakes": true,
           "showland": true,
           "subunitcolor": "white"
          },
          "hoverlabel": {
           "align": "left"
          },
          "hovermode": "closest",
          "mapbox": {
           "style": "light"
          },
          "paper_bgcolor": "white",
          "plot_bgcolor": "#E5ECF6",
          "polar": {
           "angularaxis": {
            "gridcolor": "white",
            "linecolor": "white",
            "ticks": ""
           },
           "bgcolor": "#E5ECF6",
           "radialaxis": {
            "gridcolor": "white",
            "linecolor": "white",
            "ticks": ""
           }
          },
          "scene": {
           "xaxis": {
            "backgroundcolor": "#E5ECF6",
            "gridcolor": "white",
            "gridwidth": 2,
            "linecolor": "white",
            "showbackground": true,
            "ticks": "",
            "zerolinecolor": "white"
           },
           "yaxis": {
            "backgroundcolor": "#E5ECF6",
            "gridcolor": "white",
            "gridwidth": 2,
            "linecolor": "white",
            "showbackground": true,
            "ticks": "",
            "zerolinecolor": "white"
           },
           "zaxis": {
            "backgroundcolor": "#E5ECF6",
            "gridcolor": "white",
            "gridwidth": 2,
            "linecolor": "white",
            "showbackground": true,
            "ticks": "",
            "zerolinecolor": "white"
           }
          },
          "shapedefaults": {
           "line": {
            "color": "#2a3f5f"
           }
          },
          "ternary": {
           "aaxis": {
            "gridcolor": "white",
            "linecolor": "white",
            "ticks": ""
           },
           "baxis": {
            "gridcolor": "white",
            "linecolor": "white",
            "ticks": ""
           },
           "bgcolor": "#E5ECF6",
           "caxis": {
            "gridcolor": "white",
            "linecolor": "white",
            "ticks": ""
           }
          },
          "title": {
           "x": 0.05
          },
          "xaxis": {
           "automargin": true,
           "gridcolor": "white",
           "linecolor": "white",
           "ticks": "",
           "title": {
            "standoff": 15
           },
           "zerolinecolor": "white",
           "zerolinewidth": 2
          },
          "yaxis": {
           "automargin": true,
           "gridcolor": "white",
           "linecolor": "white",
           "ticks": "",
           "title": {
            "standoff": 15
           },
           "zerolinecolor": "white",
           "zerolinewidth": 2
          }
         }
        },
        "title": {
         "text": "Плотность sick_leave_days по возрасту"
        },
        "xaxis": {
         "anchor": "y2",
         "domain": [
          0,
          1
         ],
         "title": {
          "text": "sick_leave_days"
         },
         "zeroline": false
        },
        "yaxis": {
         "anchor": "free",
         "domain": [
          0.35,
          1
         ],
         "position": 0,
         "title": {
          "text": "Плотность"
         }
        },
        "yaxis2": {
         "anchor": "x",
         "domain": [
          0,
          0.25
         ],
         "dtick": 1,
         "showticklabels": false
        }
       }
      }
     },
     "metadata": {},
     "output_type": "display_data"
    }
   ],
   "source": [
    "# График плотности\n",
    "fig1 = ff.create_distplot(\n",
    "    [older_data['sick_leave_days'], younger_data['sick_leave_days']],\n",
    "    group_labels=[f'Старше {35}', f'Моложе {35}'],\n",
    "    colors=['blue', 'red'],\n",
    "    show_hist=False  # Hide histograms, show only density curves\n",
    ")\n",
    "\n",
    "fig1.update_layout(\n",
    "    title='Плотность sick_leave_days по возрасту',\n",
    "    xaxis=dict(title='sick_leave_days'),\n",
    "    yaxis=dict(title='Плотность')\n",
    ")"
   ]
  },
  {
   "cell_type": "markdown",
   "metadata": {},
   "source": [
    "# Проверка гипотез\n"
   ]
  },
  {
   "cell_type": "code",
   "execution_count": 107,
   "metadata": {},
   "outputs": [],
   "source": [
    "alpha = 0.05"
   ]
  },
  {
   "cell_type": "markdown",
   "metadata": {},
   "source": [
    "## Мужчины vs Женщины"
   ]
  },
  {
   "cell_type": "code",
   "execution_count": 108,
   "metadata": {},
   "outputs": [
    {
     "name": "stdout",
     "output_type": "stream",
     "text": [
      "Проверка нормальности распределения:\n",
      "Мужчины: p-значение = 0.0\n",
      "Женщины: p-значение = 0.01\n",
      "Распределения не являются нормальными, воспользуемся непараметрическим тестом Манна — Уитни.\n",
      " \n",
      "Статистика: 2829.0\n",
      "p-значение: 0.48\n",
      "ВЫВОД: Не отвергаем нулевую гипотезу. Различия статистически незначимы.\n"
     ]
    }
   ],
   "source": [
    "# Проверка нормальности распределения (t-тест)\n",
    "# Нулевая гипотеза - распределение нормальное\n",
    "_, normal_male_p_value   = stats.normaltest(male_data['sick_leave_days'])\n",
    "_, normal_female_p_value = stats.normaltest(female_data['sick_leave_days'])\n",
    "\n",
    "print(\"Проверка нормальности распределения:\")\n",
    "print(f\"Мужчины: p-значение = {round(normal_male_p_value, 2)}\")\n",
    "print(f\"Женщины: p-значение = {round(normal_female_p_value, 2)}\")\n",
    "\n",
    "# Проверка, является ли распределение нормальным на уровне значимости\n",
    "if normal_male_p_value > alpha and normal_female_p_value > alpha:\n",
    "    # Распределения являются нормальными, поэтому можно использовать t-тест\n",
    "    statistic, p_value = stats.ttest_ind(\n",
    "                                            male_data['sick_leave_days'], \n",
    "                                            female_data['sick_leave_days'],\n",
    "                                            alternative='greater'\n",
    "                                        )\n",
    "    print(f\"t-статистика: {statistic}\")\n",
    "    print(f\"p-значение: {round(p_value, 2)}\")\n",
    "\n",
    "    if p_value < alpha:\n",
    "        print(\"ВЫВОД: Отвергаем нулевую гипотезу. Существуют статистически значимые различия.\")\n",
    "    else:\n",
    "        print(\"ВЫВОД: Не отвергаем нулевую гипотезу. Различия статистически незначимы.\")\n",
    "else:\n",
    "    print(\"Распределения не являются нормальными, воспользуемся непараметрическим тестом Манна — Уитни.\")\n",
    "\n",
    "    statistic, p_value = stats.mannwhitneyu(\n",
    "                                                male_data['sick_leave_days'], \n",
    "                                                female_data['sick_leave_days'], \n",
    "                                                alternative='greater'\n",
    "                                            )\n",
    "    print(' ')\n",
    "    print(f\"Статистика: {statistic}\")\n",
    "    print(f\"p-значение: {round(p_value, 2)}\")\n",
    "\n",
    "    if p_value < alpha:\n",
    "        print(\"ВЫВОД: Отвергаем нулевую гипотезу. Существуют статистически значимые различия.\")\n",
    "    else:\n",
    "        print(\"ВЫВОД: Не отвергаем нулевую гипотезу. Различия статистически незначимы.\")"
   ]
  },
  {
   "cell_type": "code",
   "execution_count": 109,
   "metadata": {},
   "outputs": [
    {
     "name": "stdout",
     "output_type": "stream",
     "text": [
      "Проверка нормальности распределения:\n",
      "Старше 35 лет: p-значение = 0.0\n",
      "Моложе 35 лет: p-значение = 0.02\n",
      "Распределения не являются нормальными, воспользуемся непараметрическим тестом Манна — Уитни.\n",
      " \n",
      "Статистика: 1888.0\n",
      "p-значение: 0.8\n",
      "ВЫВОД: Не отвергаем нулевую гипотезу. Различия статистически незначимы.\n"
     ]
    }
   ],
   "source": [
    "# Вторая гипотеза: Работники старше 35 лет пропускают в течение года более 2 рабочих дней значимо чаще своих более молодых коллег\n",
    "\n",
    "# Проверка нормальности распределения (t-тест)\n",
    "_, normal_older_p_value   = stats.normaltest(older_data['sick_leave_days'])\n",
    "_, normal_younger_p_value = stats.normaltest(younger_data['sick_leave_days'])\n",
    "\n",
    "print(\"Проверка нормальности распределения:\")\n",
    "print(f\"Старше 35 лет: p-значение = {round(normal_older_p_value, 2)}\")\n",
    "print(f\"Моложе 35 лет: p-значение = {round(normal_younger_p_value, 2)}\")\n",
    "\n",
    "# Проверка, является ли распределение нормальным на уровне значимости\n",
    "if normal_older_p_value > alpha and normal_younger_p_value > alpha:\n",
    "# Распределения являются нормальными, поэтому можно использовать t-тест\n",
    "    statistic, p_value = stats.ttest_ind(   older_data['sick_leave_days'], \n",
    "                                            younger_data['sick_leave_days'], \n",
    "                                            alternative='greater'\n",
    "                                        )\n",
    "    print(f\"t-статистика: {statistic}\")\n",
    "    print(f\"p-значение: {round(p_value, 2)}\")\n",
    "\n",
    "    if p_value < alpha:\n",
    "            print(\"ВЫВОД: Отвергаем нулевую гипотезу. Существуют статистически значимые различия.\")\n",
    "    else:\n",
    "        print(\"ВЫВОД: Не отвергаем нулевую гипотезу. Различия статистически незначимы.\")\n",
    "else:\n",
    "    \n",
    "    print(f\"Распределения не являются нормальными, воспользуемся непараметрическим тестом Манна — Уитни.\")\n",
    "\n",
    "    statistic, p_value = stats.mannwhitneyu(\n",
    "                                                older_data['sick_leave_days'], \n",
    "                                                younger_data['sick_leave_days'], \n",
    "                                                alternative='greater'\n",
    "                                            )\n",
    "    print(' ')\n",
    "    print(f\"Статистика: {statistic}\")\n",
    "    print(f\"p-значение: {round(p_value, 2)}\")\n",
    "\n",
    "    if p_value < alpha:\n",
    "        print(\"ВЫВОД:Отвергаем нулевую гипотезу. Существуют статистически значимые различия.\")\n",
    "    else:\n",
    "        print(\"ВЫВОД: Не отвергаем нулевую гипотезу. Различия статистически незначимы.\")"
   ]
  }
 ],
 "metadata": {
  "kernelspec": {
   "display_name": "Python 3",
   "language": "python",
   "name": "python3"
  },
  "language_info": {
   "codemirror_mode": {
    "name": "ipython",
    "version": 3
   },
   "file_extension": ".py",
   "mimetype": "text/x-python",
   "name": "python",
   "nbconvert_exporter": "python",
   "pygments_lexer": "ipython3",
   "version": "3.9.2"
  },
  "orig_nbformat": 4
 },
 "nbformat": 4,
 "nbformat_minor": 2
}
